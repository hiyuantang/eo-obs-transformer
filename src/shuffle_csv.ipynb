{
 "cells": [
  {
   "cell_type": "code",
   "execution_count": 1,
   "id": "e5db5246",
   "metadata": {},
   "outputs": [],
   "source": [
    "import pandas as pd\n",
    "pd.set_option('display.max_rows', None)\n",
    "pd.set_option('display.max_columns', None)"
   ]
  },
  {
   "cell_type": "code",
   "execution_count": null,
   "id": "007ec80e",
   "metadata": {},
   "outputs": [
    {
     "name": "stdout",
     "output_type": "stream",
     "text": [
      "| country   | survey_start_year   | year   | lat   | lon      | GID_1   | GID_2   | households   | rural   | iwi     |\n",
      "|:----------|:--------------------|:-------|:------|:---------|:--------|:--------|:-------------|:--------|:--------|\n",
      "| senegal   | 1992                | 1992   | 14.15 | -16.0667 | SEN.5   | SEN.5.2 | 4            | 0       | 36.1258 |\n",
      "| senegal   | 1992                | 1992   | 14.15 | -16.0667 | SEN.5   | SEN.5.2 | 13           | 0       | 24.8631 |\n",
      "| senegal   | 1992                | 1992   | 14.15 | -16.0667 | SEN.5   | SEN.5.2 | 10           | 0       | 40.1714 |\n",
      "| senegal   | 1992                | 1992   | 14.15 | -16.0667 | SEN.5   | SEN.5.2 | 12           | 0       | 26.9143 |\n",
      "| senegal   | 1992                | 1992   | 14.15 | -16.0667 | SEN.5   | SEN.5.2 | 10           | 0       | 42.0501 |\n",
      "<class 'pandas.core.frame.DataFrame'>\n",
      "RangeIndex: 2165 entries, 0 to 2164\n",
      "Data columns (total 10 columns):\n",
      " #   Column             Non-Null Count  Dtype  \n",
      "---  ------             --------------  -----  \n",
      " 0   country            2165 non-null   object \n",
      " 1   survey_start_year  2165 non-null   int64  \n",
      " 2   year               2165 non-null   int64  \n",
      " 3   lat                2165 non-null   float64\n",
      " 4   lon                2165 non-null   float64\n",
      " 5   GID_1              2165 non-null   object \n",
      " 6   GID_2              2165 non-null   object \n",
      " 7   households         2165 non-null   int64  \n",
      " 8   rural              2165 non-null   int64  \n",
      " 9   iwi                2165 non-null   float64\n",
      "dtypes: float64(3), int64(4), object(3)\n",
      "memory usage: 169.3+ KB\n",
      "None\n"
     ]
    }
   ],
   "source": [
    "df = pd.read_csv('data/senegal.csv')\n",
    "print(df.head().to_markdown(index=False, numalign=\"left\", stralign=\"left\"))\n",
    "print(df.info())"
   ]
  },
  {
   "cell_type": "code",
   "execution_count": null,
   "id": "41f2a924",
   "metadata": {},
   "outputs": [],
   "source": [
    "df_shuffled = df.sample(frac=1).reset_index(drop=True)\n",
    "df_sorted_by_year = df_shuffled.sort_values(by='year')\n",
    "df_sorted_by_year.to_csv('data/senegal_shuffled.csv', index=False)"
   ]
  }
 ],
 "metadata": {
  "kernelspec": {
   "display_name": "stat288",
   "language": "python",
   "name": "python3"
  },
  "language_info": {
   "codemirror_mode": {
    "name": "ipython",
    "version": 3
   },
   "file_extension": ".py",
   "mimetype": "text/x-python",
   "name": "python",
   "nbconvert_exporter": "python",
   "pygments_lexer": "ipython3",
   "version": "3.12.9"
  }
 },
 "nbformat": 4,
 "nbformat_minor": 5
}
