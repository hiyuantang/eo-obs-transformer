{
 "cells": [
  {
   "cell_type": "code",
   "execution_count": 1,
   "id": "745900e0",
   "metadata": {},
   "outputs": [],
   "source": [
    "import pandas as pd\n",
    "import geopandas as gpd\n",
    "import rasterio\n",
    "import rasterio.sample\n",
    "import rioxarray\n",
    "import plotly.io as pio\n",
    "pio.renderers.default = 'vscode' # Or 'notebook', 'browser', 'jupyterlab' etc."
   ]
  },
  {
   "cell_type": "code",
   "execution_count": 2,
   "id": "339516a2",
   "metadata": {},
   "outputs": [
    {
     "name": "stdout",
     "output_type": "stream",
     "text": [
      "Attempting minimal Plotly map...\n"
     ]
    },
    {
     "name": "stderr",
     "output_type": "stream",
     "text": [
      "C:\\Users\\yuant\\AppData\\Local\\Temp\\ipykernel_19652\\2312376925.py:7: DeprecationWarning:\n",
      "\n",
      "*scatter_mapbox* is deprecated! Use *scatter_map* instead. Learn more at: https://plotly.com/python/mapbox-to-maplibre/\n",
      "\n"
     ]
    },
    {
     "data": {
      "application/vnd.plotly.v1+json": {
       "config": {
        "plotlyServerURL": "https://plot.ly"
       },
       "data": [
        {
         "hovertemplate": "lat=%{lat}<br>lon=%{lon}<extra></extra>",
         "lat": {
          "bdata": "AA==",
          "dtype": "i1"
         },
         "legendgroup": "",
         "lon": {
          "bdata": "AA==",
          "dtype": "i1"
         },
         "marker": {
          "color": "#636efa"
         },
         "mode": "markers",
         "name": "",
         "showlegend": false,
         "subplot": "mapbox",
         "type": "scattermapbox"
        }
       ],
       "layout": {
        "legend": {
         "tracegroupgap": 0
        },
        "mapbox": {
         "center": {
          "lat": 0,
          "lon": 0
         },
         "domain": {
          "x": [
           0,
           1
          ],
          "y": [
           0,
           1
          ]
         },
         "style": "open-street-map",
         "zoom": 1
        },
        "margin": {
         "t": 60
        },
        "template": {
         "data": {
          "bar": [
           {
            "error_x": {
             "color": "#2a3f5f"
            },
            "error_y": {
             "color": "#2a3f5f"
            },
            "marker": {
             "line": {
              "color": "#E5ECF6",
              "width": 0.5
             },
             "pattern": {
              "fillmode": "overlay",
              "size": 10,
              "solidity": 0.2
             }
            },
            "type": "bar"
           }
          ],
          "barpolar": [
           {
            "marker": {
             "line": {
              "color": "#E5ECF6",
              "width": 0.5
             },
             "pattern": {
              "fillmode": "overlay",
              "size": 10,
              "solidity": 0.2
             }
            },
            "type": "barpolar"
           }
          ],
          "carpet": [
           {
            "aaxis": {
             "endlinecolor": "#2a3f5f",
             "gridcolor": "white",
             "linecolor": "white",
             "minorgridcolor": "white",
             "startlinecolor": "#2a3f5f"
            },
            "baxis": {
             "endlinecolor": "#2a3f5f",
             "gridcolor": "white",
             "linecolor": "white",
             "minorgridcolor": "white",
             "startlinecolor": "#2a3f5f"
            },
            "type": "carpet"
           }
          ],
          "choropleth": [
           {
            "colorbar": {
             "outlinewidth": 0,
             "ticks": ""
            },
            "type": "choropleth"
           }
          ],
          "contour": [
           {
            "colorbar": {
             "outlinewidth": 0,
             "ticks": ""
            },
            "colorscale": [
             [
              0,
              "#0d0887"
             ],
             [
              0.1111111111111111,
              "#46039f"
             ],
             [
              0.2222222222222222,
              "#7201a8"
             ],
             [
              0.3333333333333333,
              "#9c179e"
             ],
             [
              0.4444444444444444,
              "#bd3786"
             ],
             [
              0.5555555555555556,
              "#d8576b"
             ],
             [
              0.6666666666666666,
              "#ed7953"
             ],
             [
              0.7777777777777778,
              "#fb9f3a"
             ],
             [
              0.8888888888888888,
              "#fdca26"
             ],
             [
              1,
              "#f0f921"
             ]
            ],
            "type": "contour"
           }
          ],
          "contourcarpet": [
           {
            "colorbar": {
             "outlinewidth": 0,
             "ticks": ""
            },
            "type": "contourcarpet"
           }
          ],
          "heatmap": [
           {
            "colorbar": {
             "outlinewidth": 0,
             "ticks": ""
            },
            "colorscale": [
             [
              0,
              "#0d0887"
             ],
             [
              0.1111111111111111,
              "#46039f"
             ],
             [
              0.2222222222222222,
              "#7201a8"
             ],
             [
              0.3333333333333333,
              "#9c179e"
             ],
             [
              0.4444444444444444,
              "#bd3786"
             ],
             [
              0.5555555555555556,
              "#d8576b"
             ],
             [
              0.6666666666666666,
              "#ed7953"
             ],
             [
              0.7777777777777778,
              "#fb9f3a"
             ],
             [
              0.8888888888888888,
              "#fdca26"
             ],
             [
              1,
              "#f0f921"
             ]
            ],
            "type": "heatmap"
           }
          ],
          "histogram": [
           {
            "marker": {
             "pattern": {
              "fillmode": "overlay",
              "size": 10,
              "solidity": 0.2
             }
            },
            "type": "histogram"
           }
          ],
          "histogram2d": [
           {
            "colorbar": {
             "outlinewidth": 0,
             "ticks": ""
            },
            "colorscale": [
             [
              0,
              "#0d0887"
             ],
             [
              0.1111111111111111,
              "#46039f"
             ],
             [
              0.2222222222222222,
              "#7201a8"
             ],
             [
              0.3333333333333333,
              "#9c179e"
             ],
             [
              0.4444444444444444,
              "#bd3786"
             ],
             [
              0.5555555555555556,
              "#d8576b"
             ],
             [
              0.6666666666666666,
              "#ed7953"
             ],
             [
              0.7777777777777778,
              "#fb9f3a"
             ],
             [
              0.8888888888888888,
              "#fdca26"
             ],
             [
              1,
              "#f0f921"
             ]
            ],
            "type": "histogram2d"
           }
          ],
          "histogram2dcontour": [
           {
            "colorbar": {
             "outlinewidth": 0,
             "ticks": ""
            },
            "colorscale": [
             [
              0,
              "#0d0887"
             ],
             [
              0.1111111111111111,
              "#46039f"
             ],
             [
              0.2222222222222222,
              "#7201a8"
             ],
             [
              0.3333333333333333,
              "#9c179e"
             ],
             [
              0.4444444444444444,
              "#bd3786"
             ],
             [
              0.5555555555555556,
              "#d8576b"
             ],
             [
              0.6666666666666666,
              "#ed7953"
             ],
             [
              0.7777777777777778,
              "#fb9f3a"
             ],
             [
              0.8888888888888888,
              "#fdca26"
             ],
             [
              1,
              "#f0f921"
             ]
            ],
            "type": "histogram2dcontour"
           }
          ],
          "mesh3d": [
           {
            "colorbar": {
             "outlinewidth": 0,
             "ticks": ""
            },
            "type": "mesh3d"
           }
          ],
          "parcoords": [
           {
            "line": {
             "colorbar": {
              "outlinewidth": 0,
              "ticks": ""
             }
            },
            "type": "parcoords"
           }
          ],
          "pie": [
           {
            "automargin": true,
            "type": "pie"
           }
          ],
          "scatter": [
           {
            "fillpattern": {
             "fillmode": "overlay",
             "size": 10,
             "solidity": 0.2
            },
            "type": "scatter"
           }
          ],
          "scatter3d": [
           {
            "line": {
             "colorbar": {
              "outlinewidth": 0,
              "ticks": ""
             }
            },
            "marker": {
             "colorbar": {
              "outlinewidth": 0,
              "ticks": ""
             }
            },
            "type": "scatter3d"
           }
          ],
          "scattercarpet": [
           {
            "marker": {
             "colorbar": {
              "outlinewidth": 0,
              "ticks": ""
             }
            },
            "type": "scattercarpet"
           }
          ],
          "scattergeo": [
           {
            "marker": {
             "colorbar": {
              "outlinewidth": 0,
              "ticks": ""
             }
            },
            "type": "scattergeo"
           }
          ],
          "scattergl": [
           {
            "marker": {
             "colorbar": {
              "outlinewidth": 0,
              "ticks": ""
             }
            },
            "type": "scattergl"
           }
          ],
          "scattermap": [
           {
            "marker": {
             "colorbar": {
              "outlinewidth": 0,
              "ticks": ""
             }
            },
            "type": "scattermap"
           }
          ],
          "scattermapbox": [
           {
            "marker": {
             "colorbar": {
              "outlinewidth": 0,
              "ticks": ""
             }
            },
            "type": "scattermapbox"
           }
          ],
          "scatterpolar": [
           {
            "marker": {
             "colorbar": {
              "outlinewidth": 0,
              "ticks": ""
             }
            },
            "type": "scatterpolar"
           }
          ],
          "scatterpolargl": [
           {
            "marker": {
             "colorbar": {
              "outlinewidth": 0,
              "ticks": ""
             }
            },
            "type": "scatterpolargl"
           }
          ],
          "scatterternary": [
           {
            "marker": {
             "colorbar": {
              "outlinewidth": 0,
              "ticks": ""
             }
            },
            "type": "scatterternary"
           }
          ],
          "surface": [
           {
            "colorbar": {
             "outlinewidth": 0,
             "ticks": ""
            },
            "colorscale": [
             [
              0,
              "#0d0887"
             ],
             [
              0.1111111111111111,
              "#46039f"
             ],
             [
              0.2222222222222222,
              "#7201a8"
             ],
             [
              0.3333333333333333,
              "#9c179e"
             ],
             [
              0.4444444444444444,
              "#bd3786"
             ],
             [
              0.5555555555555556,
              "#d8576b"
             ],
             [
              0.6666666666666666,
              "#ed7953"
             ],
             [
              0.7777777777777778,
              "#fb9f3a"
             ],
             [
              0.8888888888888888,
              "#fdca26"
             ],
             [
              1,
              "#f0f921"
             ]
            ],
            "type": "surface"
           }
          ],
          "table": [
           {
            "cells": {
             "fill": {
              "color": "#EBF0F8"
             },
             "line": {
              "color": "white"
             }
            },
            "header": {
             "fill": {
              "color": "#C8D4E3"
             },
             "line": {
              "color": "white"
             }
            },
            "type": "table"
           }
          ]
         },
         "layout": {
          "annotationdefaults": {
           "arrowcolor": "#2a3f5f",
           "arrowhead": 0,
           "arrowwidth": 1
          },
          "autotypenumbers": "strict",
          "coloraxis": {
           "colorbar": {
            "outlinewidth": 0,
            "ticks": ""
           }
          },
          "colorscale": {
           "diverging": [
            [
             0,
             "#8e0152"
            ],
            [
             0.1,
             "#c51b7d"
            ],
            [
             0.2,
             "#de77ae"
            ],
            [
             0.3,
             "#f1b6da"
            ],
            [
             0.4,
             "#fde0ef"
            ],
            [
             0.5,
             "#f7f7f7"
            ],
            [
             0.6,
             "#e6f5d0"
            ],
            [
             0.7,
             "#b8e186"
            ],
            [
             0.8,
             "#7fbc41"
            ],
            [
             0.9,
             "#4d9221"
            ],
            [
             1,
             "#276419"
            ]
           ],
           "sequential": [
            [
             0,
             "#0d0887"
            ],
            [
             0.1111111111111111,
             "#46039f"
            ],
            [
             0.2222222222222222,
             "#7201a8"
            ],
            [
             0.3333333333333333,
             "#9c179e"
            ],
            [
             0.4444444444444444,
             "#bd3786"
            ],
            [
             0.5555555555555556,
             "#d8576b"
            ],
            [
             0.6666666666666666,
             "#ed7953"
            ],
            [
             0.7777777777777778,
             "#fb9f3a"
            ],
            [
             0.8888888888888888,
             "#fdca26"
            ],
            [
             1,
             "#f0f921"
            ]
           ],
           "sequentialminus": [
            [
             0,
             "#0d0887"
            ],
            [
             0.1111111111111111,
             "#46039f"
            ],
            [
             0.2222222222222222,
             "#7201a8"
            ],
            [
             0.3333333333333333,
             "#9c179e"
            ],
            [
             0.4444444444444444,
             "#bd3786"
            ],
            [
             0.5555555555555556,
             "#d8576b"
            ],
            [
             0.6666666666666666,
             "#ed7953"
            ],
            [
             0.7777777777777778,
             "#fb9f3a"
            ],
            [
             0.8888888888888888,
             "#fdca26"
            ],
            [
             1,
             "#f0f921"
            ]
           ]
          },
          "colorway": [
           "#636efa",
           "#EF553B",
           "#00cc96",
           "#ab63fa",
           "#FFA15A",
           "#19d3f3",
           "#FF6692",
           "#B6E880",
           "#FF97FF",
           "#FECB52"
          ],
          "font": {
           "color": "#2a3f5f"
          },
          "geo": {
           "bgcolor": "white",
           "lakecolor": "white",
           "landcolor": "#E5ECF6",
           "showlakes": true,
           "showland": true,
           "subunitcolor": "white"
          },
          "hoverlabel": {
           "align": "left"
          },
          "hovermode": "closest",
          "mapbox": {
           "style": "light"
          },
          "paper_bgcolor": "white",
          "plot_bgcolor": "#E5ECF6",
          "polar": {
           "angularaxis": {
            "gridcolor": "white",
            "linecolor": "white",
            "ticks": ""
           },
           "bgcolor": "#E5ECF6",
           "radialaxis": {
            "gridcolor": "white",
            "linecolor": "white",
            "ticks": ""
           }
          },
          "scene": {
           "xaxis": {
            "backgroundcolor": "#E5ECF6",
            "gridcolor": "white",
            "gridwidth": 2,
            "linecolor": "white",
            "showbackground": true,
            "ticks": "",
            "zerolinecolor": "white"
           },
           "yaxis": {
            "backgroundcolor": "#E5ECF6",
            "gridcolor": "white",
            "gridwidth": 2,
            "linecolor": "white",
            "showbackground": true,
            "ticks": "",
            "zerolinecolor": "white"
           },
           "zaxis": {
            "backgroundcolor": "#E5ECF6",
            "gridcolor": "white",
            "gridwidth": 2,
            "linecolor": "white",
            "showbackground": true,
            "ticks": "",
            "zerolinecolor": "white"
           }
          },
          "shapedefaults": {
           "line": {
            "color": "#2a3f5f"
           }
          },
          "ternary": {
           "aaxis": {
            "gridcolor": "white",
            "linecolor": "white",
            "ticks": ""
           },
           "baxis": {
            "gridcolor": "white",
            "linecolor": "white",
            "ticks": ""
           },
           "bgcolor": "#E5ECF6",
           "caxis": {
            "gridcolor": "white",
            "linecolor": "white",
            "ticks": ""
           }
          },
          "title": {
           "x": 0.05
          },
          "xaxis": {
           "automargin": true,
           "gridcolor": "white",
           "linecolor": "white",
           "ticks": "",
           "title": {
            "standoff": 15
           },
           "zerolinecolor": "white",
           "zerolinewidth": 2
          },
          "yaxis": {
           "automargin": true,
           "gridcolor": "white",
           "linecolor": "white",
           "ticks": "",
           "title": {
            "standoff": 15
           },
           "zerolinecolor": "white",
           "zerolinewidth": 2
          }
         }
        }
       }
      }
     },
     "metadata": {},
     "output_type": "display_data"
    },
    {
     "name": "stdout",
     "output_type": "stream",
     "text": [
      "Minimal map should have displayed.\n"
     ]
    }
   ],
   "source": [
    "import plotly.express as px\n",
    "import plotly.io as pio\n",
    "# pio.renderers.default = 'notebook' # Or 'vscode', 'browser', etc. - uncomment and set if needed\n",
    "\n",
    "print(\"Attempting minimal Plotly map...\")\n",
    "try:\n",
    "    fig = px.scatter_mapbox(lat=[0], lon=[0], zoom=1) # Plot a single point at 0,0\n",
    "    fig.update_layout(mapbox_style=\"open-street-map\")\n",
    "    fig.show()\n",
    "    print(\"Minimal map should have displayed.\")\n",
    "except Exception as e:\n",
    "    print(f\"Error during minimal map test: {e}\")"
   ]
  },
  {
   "cell_type": "code",
   "execution_count": 5,
   "id": "9b0fce72",
   "metadata": {},
   "outputs": [],
   "source": [
    "tif_file_path = 'humansettle_data/GHS_BUILT_S_E2020_GLOBE_R2023A_54009_1000_V1_0_R7_C17.tif'"
   ]
  },
  {
   "cell_type": "code",
   "execution_count": 6,
   "id": "b147fd2e",
   "metadata": {},
   "outputs": [
    {
     "name": "stdout",
     "output_type": "stream",
     "text": [
      "Reading raster: humansettle_data/GHS_BUILT_S_E2020_GLOBE_R2023A_54009_1000_V1_0_R7_C17.tif\n",
      "CRS: ESRI:54009, Shape: (1000, 700), Dtype: uint32\n",
      "NoData value: 4294967295.0\n",
      "Data min: 0, max: 4294967295, mean: 613567015.6984457\n",
      "Found 134907 pixels with value > 0\n",
      "Sampling down to 1000 points...\n",
      "Created DataFrame with 1000 points for plotting.\n",
      "Creating Plotly map...\n"
     ]
    },
    {
     "name": "stderr",
     "output_type": "stream",
     "text": [
      "C:\\Users\\yuant\\AppData\\Local\\Temp\\ipykernel_66228\\356529412.py:68: DeprecationWarning:\n",
      "\n",
      "*scatter_mapbox* is deprecated! Use *scatter_map* instead. Learn more at: https://plotly.com/python/mapbox-to-maplibre/\n",
      "\n"
     ]
    },
    {
     "name": "stdout",
     "output_type": "stream",
     "text": [
      "Showing plot...\n"
     ]
    },
    {
     "data": {
      "application/vnd.plotly.v1+json": {
       "config": {
        "plotlyServerURL": "https://plot.ly"
       },
       "data": [
        {
         "hovertemplate": "settlement_value=4294967295<br>latitude=%{lat}<br>longitude=%{lon}<extra></extra>",
         "lat": {
          "bdata": "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",
          "dtype": "f8"
         },
         "legendgroup": "4294967295",
         "lon": {
          "bdata": "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",
          "dtype": "f8"
         },
         "marker": {
          "color": "#636efa",
          "opacity": 0.7
         },
         "mode": "markers",
         "name": "4294967295",
         "showlegend": true,
         "subplot": "mapbox",
         "type": "scattermapbox"
        },
        {
         "hovertemplate": "settlement_value=294<br>latitude=%{lat}<br>longitude=%{lon}<extra></extra>",
         "lat": {
          "bdata": "ol0yyJesMEA=",
          "dtype": "f8"
         },
         "legendgroup": "294",
         "lon": {
          "bdata": "vhIf601PLMA=",
          "dtype": "f8"
         },
         "marker": {
          "color": "#EF553B",
          "opacity": 0.7
         },
         "mode": "markers",
         "name": "294",
         "showlegend": true,
         "subplot": "mapbox",
         "type": "scattermapbox"
        },
        {
         "hovertemplate": "settlement_value=956<br>latitude=%{lat}<br>longitude=%{lon}<extra></extra>",
         "lat": {
          "bdata": "ouBzs/JiMEA=",
          "dtype": "f8"
         },
         "legendgroup": "956",
         "lon": {
          "bdata": "wR3P20JnK8A=",
          "dtype": "f8"
         },
         "marker": {
          "color": "#00cc96",
          "opacity": 0.7
         },
         "mode": "markers",
         "name": "956",
         "showlegend": true,
         "subplot": "mapbox",
         "type": "scattermapbox"
        },
        {
         "hovertemplate": "settlement_value=10<br>latitude=%{lat}<br>longitude=%{lon}<extra></extra>",
         "lat": {
          "bdata": "9N15F4yXMEDSRABfcZUwQNWRJgUcfzRAOEcWnD8GMkDzH1DHY7M1QA==",
          "dtype": "f8"
         },
         "legendgroup": "10",
         "lon": {
          "bdata": "UR4/n/IrKsCfo5/hDo8vwCOqhEj8KC7AbiJBjTreLsCotmMBBq0pwA==",
          "dtype": "f8"
         },
         "marker": {
          "color": "#ab63fa",
          "opacity": 0.7
         },
         "mode": "markers",
         "name": "10",
         "showlegend": true,
         "subplot": "mapbox",
         "type": "scattermapbox"
        },
        {
         "hovertemplate": "settlement_value=1633<br>latitude=%{lat}<br>longitude=%{lon}<extra></extra>",
         "lat": {
          "bdata": "Opys6rphMUA=",
          "dtype": "f8"
         },
         "legendgroup": "1633",
         "lon": {
          "bdata": "ilutUqufKcA=",
          "dtype": "f8"
         },
         "marker": {
          "color": "#FFA15A",
          "opacity": 0.7
         },
         "mode": "markers",
         "name": "1633",
         "showlegend": true,
         "subplot": "mapbox",
         "type": "scattermapbox"
        },
        {
         "hovertemplate": "settlement_value=342<br>latitude=%{lat}<br>longitude=%{lon}<extra></extra>",
         "lat": {
          "bdata": "vRugmSykMEA=",
          "dtype": "f8"
         },
         "legendgroup": "342",
         "lon": {
          "bdata": "0DB/WmAhLsA=",
          "dtype": "f8"
         },
         "marker": {
          "color": "#19d3f3",
          "opacity": 0.7
         },
         "mode": "markers",
         "name": "342",
         "showlegend": true,
         "subplot": "mapbox",
         "type": "scattermapbox"
        },
        {
         "hovertemplate": "settlement_value=58<br>latitude=%{lat}<br>longitude=%{lon}<extra></extra>",
         "lat": {
          "bdata": "ATesCBK2MUA=",
          "dtype": "f8"
         },
         "legendgroup": "58",
         "lon": {
          "bdata": "Cw+1wRqOJ8A=",
          "dtype": "f8"
         },
         "marker": {
          "color": "#FF6692",
          "opacity": 0.7
         },
         "mode": "markers",
         "name": "58",
         "showlegend": true,
         "subplot": "mapbox",
         "type": "scattermapbox"
        },
        {
         "hovertemplate": "settlement_value=375516<br>latitude=%{lat}<br>longitude=%{lon}<extra></extra>",
         "lat": {
          "bdata": "XAfwz3cdMkA=",
          "dtype": "f8"
         },
         "legendgroup": "375516",
         "lon": {
          "bdata": "JF6u2Q/jL8A=",
          "dtype": "f8"
         },
         "marker": {
          "color": "#B6E880",
          "opacity": 0.7
         },
         "mode": "markers",
         "name": "375516",
         "showlegend": true,
         "subplot": "mapbox",
         "type": "scattermapbox"
        },
        {
         "hovertemplate": "settlement_value=138<br>latitude=%{lat}<br>longitude=%{lon}<extra></extra>",
         "lat": {
          "bdata": "dYZIygUFMUA=",
          "dtype": "f8"
         },
         "legendgroup": "138",
         "lon": {
          "bdata": "UD0L7/8mL8A=",
          "dtype": "f8"
         },
         "marker": {
          "color": "#FF97FF",
          "opacity": 0.7
         },
         "mode": "markers",
         "name": "138",
         "showlegend": true,
         "subplot": "mapbox",
         "type": "scattermapbox"
        },
        {
         "hovertemplate": "settlement_value=2451<br>latitude=%{lat}<br>longitude=%{lon}<extra></extra>",
         "lat": {
          "bdata": "z7uwA2TpN0A=",
          "dtype": "f8"
         },
         "legendgroup": "2451",
         "lon": {
          "bdata": "/V72/uKLL8A=",
          "dtype": "f8"
         },
         "marker": {
          "color": "#FECB52",
          "opacity": 0.7
         },
         "mode": "markers",
         "name": "2451",
         "showlegend": true,
         "subplot": "mapbox",
         "type": "scattermapbox"
        },
        {
         "hovertemplate": "settlement_value=110<br>latitude=%{lat}<br>longitude=%{lon}<extra></extra>",
         "lat": {
          "bdata": "2/hauydnMEA=",
          "dtype": "f8"
         },
         "legendgroup": "110",
         "lon": {
          "bdata": "Soa0VrB9JsA=",
          "dtype": "f8"
         },
         "marker": {
          "color": "#636efa",
          "opacity": 0.7
         },
         "mode": "markers",
         "name": "110",
         "showlegend": true,
         "subplot": "mapbox",
         "type": "scattermapbox"
        },
        {
         "hovertemplate": "settlement_value=21<br>latitude=%{lat}<br>longitude=%{lon}<extra></extra>",
         "lat": {
          "bdata": "76j9UYMiMUDb+Fq7J2cwQA==",
          "dtype": "f8"
         },
         "legendgroup": "21",
         "lon": {
          "bdata": "vQkRL6GnK8BHzbPUSNEswA==",
          "dtype": "f8"
         },
         "marker": {
          "color": "#EF553B",
          "opacity": 0.7
         },
         "mode": "markers",
         "name": "21",
         "showlegend": true,
         "subplot": "mapbox",
         "type": "scattermapbox"
        },
        {
         "hovertemplate": "settlement_value=49<br>latitude=%{lat}<br>longitude=%{lon}<extra></extra>",
         "lat": {
          "bdata": "fU+iXTlUMED/3QugTFkxQOgZJcxcazBA4xwVGs9JMkA=",
          "dtype": "f8"
         },
         "legendgroup": "49",
         "lon": {
          "bdata": "MBKsO2zVJsAc0meFJHwnwIG9/hN1zSfAe5nIHpWSJsA=",
          "dtype": "f8"
         },
         "marker": {
          "color": "#00cc96",
          "opacity": 0.7
         },
         "mode": "markers",
         "name": "49",
         "showlegend": true,
         "subplot": "mapbox",
         "type": "scattermapbox"
        },
        {
         "hovertemplate": "settlement_value=205<br>latitude=%{lat}<br>longitude=%{lon}<extra></extra>",
         "lat": {
          "bdata": "EfAwW6TBMEAwMKsVwbczQA==",
          "dtype": "f8"
         },
         "legendgroup": "205",
         "lon": {
          "bdata": "YLqWohKkK8AV+BVsAgsrwA==",
          "dtype": "f8"
         },
         "marker": {
          "color": "#ab63fa",
          "opacity": 0.7
         },
         "mode": "markers",
         "name": "205",
         "showlegend": true,
         "subplot": "mapbox",
         "type": "scattermapbox"
        },
        {
         "hovertemplate": "settlement_value=21085<br>latitude=%{lat}<br>longitude=%{lon}<extra></extra>",
         "lat": {
          "bdata": "7pD2rtH+N0A=",
          "dtype": "f8"
         },
         "legendgroup": "21085",
         "lon": {
          "bdata": "nudhIU9OL8A=",
          "dtype": "f8"
         },
         "marker": {
          "color": "#FFA15A",
          "opacity": 0.7
         },
         "mode": "markers",
         "name": "21085",
         "showlegend": true,
         "subplot": "mapbox",
         "type": "scattermapbox"
        },
        {
         "hovertemplate": "settlement_value=19244<br>latitude=%{lat}<br>longitude=%{lon}<extra></extra>",
         "lat": {
          "bdata": "OMVmuRajMUA=",
          "dtype": "f8"
         },
         "legendgroup": "19244",
         "lon": {
          "bdata": "55tD5kOqJsA=",
          "dtype": "f8"
         },
         "marker": {
          "color": "#19d3f3",
          "opacity": 0.7
         },
         "mode": "markers",
         "name": "19244",
         "showlegend": true,
         "subplot": "mapbox",
         "type": "scattermapbox"
        },
        {
         "hovertemplate": "settlement_value=55<br>latitude=%{lat}<br>longitude=%{lon}<extra></extra>",
         "lat": {
          "bdata": "Z3K8YVsbMkA=",
          "dtype": "f8"
         },
         "legendgroup": "55",
         "lon": {
          "bdata": "+qzk49z/J8A=",
          "dtype": "f8"
         },
         "marker": {
          "color": "#FF6692",
          "opacity": 0.7
         },
         "mode": "markers",
         "name": "55",
         "showlegend": true,
         "subplot": "mapbox",
         "type": "scattermapbox"
        },
        {
         "hovertemplate": "settlement_value=152<br>latitude=%{lat}<br>longitude=%{lon}<extra></extra>",
         "lat": {
          "bdata": "8paqcfpINUA=",
          "dtype": "f8"
         },
         "legendgroup": "152",
         "lon": {
          "bdata": "Mg3JRvurMMA=",
          "dtype": "f8"
         },
         "marker": {
          "color": "#B6E880",
          "opacity": 0.7
         },
         "mode": "markers",
         "name": "152",
         "showlegend": true,
         "subplot": "mapbox",
         "type": "scattermapbox"
        },
        {
         "hovertemplate": "settlement_value=45<br>latitude=%{lat}<br>longitude=%{lon}<extra></extra>",
         "lat": {
          "bdata": "73mPUG7rNEA=",
          "dtype": "f8"
         },
         "legendgroup": "45",
         "lon": {
          "bdata": "Gt77ya1RK8A=",
          "dtype": "f8"
         },
         "marker": {
          "color": "#FF97FF",
          "opacity": 0.7
         },
         "mode": "markers",
         "name": "45",
         "showlegend": true,
         "subplot": "mapbox",
         "type": "scattermapbox"
        },
        {
         "hovertemplate": "settlement_value=776<br>latitude=%{lat}<br>longitude=%{lon}<extra></extra>",
         "lat": {
          "bdata": "yizhQuiyMEA=",
          "dtype": "f8"
         },
         "legendgroup": "776",
         "lon": {
          "bdata": "lVtfTRmrKcA=",
          "dtype": "f8"
         },
         "marker": {
          "color": "#FECB52",
          "opacity": 0.7
         },
         "mode": "markers",
         "name": "776",
         "showlegend": true,
         "subplot": "mapbox",
         "type": "scattermapbox"
        },
        {
         "hovertemplate": "settlement_value=12<br>latitude=%{lat}<br>longitude=%{lon}<extra></extra>",
         "lat": {
          "bdata": "X7VO+WW8MUBHDpqh6SUyQOUo5A/3nzBAuyTQ4diLNECLR220vV4wQF+1TvllvDFA+fkaPrVJMEA=",
          "dtype": "f8"
         },
         "legendgroup": "12",
         "lon": {
          "bdata": "oV6wYummLsCP9Eow4PMmwD4X6Zxn+SXAIEvl0gj6LsBRGfypm/cvwEU+w2qm7i3A/UxLez0yJsA=",
          "dtype": "f8"
         },
         "marker": {
          "color": "#636efa",
          "opacity": 0.7
         },
         "mode": "markers",
         "name": "12",
         "showlegend": true,
         "subplot": "mapbox",
         "type": "scattermapbox"
        },
        {
         "hovertemplate": "settlement_value=7237<br>latitude=%{lat}<br>longitude=%{lon}<extra></extra>",
         "lat": {
          "bdata": "JG330FNWMEA=",
          "dtype": "f8"
         },
         "legendgroup": "7237",
         "lon": {
          "bdata": "DP/Kv21QKsA=",
          "dtype": "f8"
         },
         "marker": {
          "color": "#EF553B",
          "opacity": 0.7
         },
         "mode": "markers",
         "name": "7237",
         "showlegend": true,
         "subplot": "mapbox",
         "type": "scattermapbox"
        },
        {
         "hovertemplate": "settlement_value=14781<br>latitude=%{lat}<br>longitude=%{lon}<extra></extra>",
         "lat": {
          "bdata": "2VwQneF1MEA=",
          "dtype": "f8"
         },
         "legendgroup": "14781",
         "lon": {
          "bdata": "nApXcGB6J8A=",
          "dtype": "f8"
         },
         "marker": {
          "color": "#00cc96",
          "opacity": 0.7
         },
         "mode": "markers",
         "name": "14781",
         "showlegend": true,
         "subplot": "mapbox",
         "type": "scattermapbox"
        },
        {
         "hovertemplate": "settlement_value=5388<br>latitude=%{lat}<br>longitude=%{lon}<extra></extra>",
         "lat": {
          "bdata": "i0dttL1eMEA=",
          "dtype": "f8"
         },
         "legendgroup": "5388",
         "lon": {
          "bdata": "8bHJBZfYKcA=",
          "dtype": "f8"
         },
         "marker": {
          "color": "#ab63fa",
          "opacity": 0.7
         },
         "mode": "markers",
         "name": "5388",
         "showlegend": true,
         "subplot": "mapbox",
         "type": "scattermapbox"
        },
        {
         "hovertemplate": "settlement_value=737<br>latitude=%{lat}<br>longitude=%{lon}<extra></extra>",
         "lat": {
          "bdata": "cfL10Ti5MEA=",
          "dtype": "f8"
         },
         "legendgroup": "737",
         "lon": {
          "bdata": "kflx1MaALcA=",
          "dtype": "f8"
         },
         "marker": {
          "color": "#FFA15A",
          "opacity": 0.7
         },
         "mode": "markers",
         "name": "737",
         "showlegend": true,
         "subplot": "mapbox",
         "type": "scattermapbox"
        },
        {
         "hovertemplate": "settlement_value=48<br>latitude=%{lat}<br>longitude=%{lon}<extra></extra>",
         "lat": {
          "bdata": "nssmL2hbMUDIrenys+gxQI3K0Fr27zBA",
          "dtype": "f8"
         },
         "legendgroup": "48",
         "lon": {
          "bdata": "40P9SwOmKsD/kCqLG/AuwEbpvnQP7y3A",
          "dtype": "f8"
         },
         "marker": {
          "color": "#19d3f3",
          "opacity": 0.7
         },
         "mode": "markers",
         "name": "48",
         "showlegend": true,
         "subplot": "mapbox",
         "type": "scattermapbox"
        },
        {
         "hovertemplate": "settlement_value=57013<br>latitude=%{lat}<br>longitude=%{lon}<extra></extra>",
         "lat": {
          "bdata": "g7cQQyGPMEA=",
          "dtype": "f8"
         },
         "legendgroup": "57013",
         "lon": {
          "bdata": "kG/qtnvoJcA=",
          "dtype": "f8"
         },
         "marker": {
          "color": "#FF6692",
          "opacity": 0.7
         },
         "mode": "markers",
         "name": "57013",
         "showlegend": true,
         "subplot": "mapbox",
         "type": "scattermapbox"
        },
        {
         "hovertemplate": "settlement_value=2<br>latitude=%{lat}<br>longitude=%{lon}<extra></extra>",
         "lat": {
          "bdata": "gDGFLzwJMUA=",
          "dtype": "f8"
         },
         "legendgroup": "2",
         "lon": {
          "bdata": "hjmTp+QQKsA=",
          "dtype": "f8"
         },
         "marker": {
          "color": "#B6E880",
          "opacity": 0.7
         },
         "mode": "markers",
         "name": "2",
         "showlegend": true,
         "subplot": "mapbox",
         "type": "scattermapbox"
        },
        {
         "hovertemplate": "settlement_value=8878<br>latitude=%{lat}<br>longitude=%{lon}<extra></extra>",
         "lat": {
          "bdata": "6BklzFxrMEA=",
          "dtype": "f8"
         },
         "legendgroup": "8878",
         "lon": {
          "bdata": "V2AtGoVqMMA=",
          "dtype": "f8"
         },
         "marker": {
          "color": "#FF97FF",
          "opacity": 0.7
         },
         "mode": "markers",
         "name": "8878",
         "showlegend": true,
         "subplot": "mapbox",
         "type": "scattermapbox"
        },
        {
         "hovertemplate": "settlement_value=11<br>latitude=%{lat}<br>longitude=%{lon}<extra></extra>",
         "lat": {
          "bdata": "OowG5hGyNEBcepl9BFAwQGdonWVXCzFA3EEI1VmBMUCi+n22tTM1QILObEsu5zRAIy04+96eMUA=",
          "dtype": "f8"
         },
         "legendgroup": "11",
         "lon": {
          "bdata": "mncMCo+eL8BBY321kIwuwNugvXfcLSjAiNAidKQgJ8CJUVyYPW8rwHoOi0ez+yvADaE4+ZWzLsA=",
          "dtype": "f8"
         },
         "marker": {
          "color": "#FECB52",
          "opacity": 0.7
         },
         "mode": "markers",
         "name": "11",
         "showlegend": true,
         "subplot": "mapbox",
         "type": "scattermapbox"
        },
        {
         "hovertemplate": "settlement_value=10682<br>latitude=%{lat}<br>longitude=%{lon}<extra></extra>",
         "lat": {
          "bdata": "y4oE2JpHMEA=",
          "dtype": "f8"
         },
         "legendgroup": "10682",
         "lon": {
          "bdata": "Lq6nNXPgKMA=",
          "dtype": "f8"
         },
         "marker": {
          "color": "#636efa",
          "opacity": 0.7
         },
         "mode": "markers",
         "name": "10682",
         "showlegend": true,
         "subplot": "mapbox",
         "type": "scattermapbox"
        },
        {
         "hovertemplate": "settlement_value=126<br>latitude=%{lat}<br>longitude=%{lon}<extra></extra>",
         "lat": {
          "bdata": "a9Letyp2MkC6X3MSZkMwQA==",
          "dtype": "f8"
         },
         "legendgroup": "126",
         "lon": {
          "bdata": "u1dIqoQ0J8AWHE0RytcrwA==",
          "dtype": "f8"
         },
         "marker": {
          "color": "#EF553B",
          "opacity": 0.7
         },
         "mode": "markers",
         "name": "126",
         "showlegend": true,
         "subplot": "mapbox",
         "type": "scattermapbox"
        },
        {
         "hovertemplate": "settlement_value=666<br>latitude=%{lat}<br>longitude=%{lon}<extra></extra>",
         "lat": {
          "bdata": "SrsYHc6mM0A=",
          "dtype": "f8"
         },
         "legendgroup": "666",
         "lon": {
          "bdata": "2JW3dM/3K8A=",
          "dtype": "f8"
         },
         "marker": {
          "color": "#00cc96",
          "opacity": 0.7
         },
         "mode": "markers",
         "name": "666",
         "showlegend": true,
         "subplot": "mapbox",
         "type": "scattermapbox"
        },
        {
         "hovertemplate": "settlement_value=309<br>latitude=%{lat}<br>longitude=%{lon}<extra></extra>",
         "lat": {
          "bdata": "6RwZwUIxMUA=",
          "dtype": "f8"
         },
         "legendgroup": "309",
         "lon": {
          "bdata": "1g5t4T7eL8A=",
          "dtype": "f8"
         },
         "marker": {
          "color": "#ab63fa",
          "opacity": 0.7
         },
         "mode": "markers",
         "name": "309",
         "showlegend": true,
         "subplot": "mapbox",
         "type": "scattermapbox"
        },
        {
         "hovertemplate": "settlement_value=29<br>latitude=%{lat}<br>longitude=%{lon}<extra></extra>",
         "lat": {
          "bdata": "6jQ8WylqMUA=",
          "dtype": "f8"
         },
         "legendgroup": "29",
         "lon": {
          "bdata": "NfxVkeHWJ8A=",
          "dtype": "f8"
         },
         "marker": {
          "color": "#FFA15A",
          "opacity": 0.7
         },
         "mode": "markers",
         "name": "29",
         "showlegend": true,
         "subplot": "mapbox",
         "type": "scattermapbox"
        },
        {
         "hovertemplate": "settlement_value=47<br>latitude=%{lat}<br>longitude=%{lon}<extra></extra>",
         "lat": {
          "bdata": "NjlnnbN0MUBYMmAIiucwQLZkeCNeMzFA",
          "dtype": "f8"
         },
         "legendgroup": "47",
         "lon": {
          "bdata": "rRcoCavAL8DgNjJogkoowFz81IpmcibA",
          "dtype": "f8"
         },
         "marker": {
          "color": "#19d3f3",
          "opacity": 0.7
         },
         "mode": "markers",
         "name": "47",
         "showlegend": true,
         "subplot": "mapbox",
         "type": "scattermapbox"
        },
        {
         "hovertemplate": "settlement_value=1505<br>latitude=%{lat}<br>longitude=%{lon}<extra></extra>",
         "lat": {
          "bdata": "Q4ZVvQUVNEA=",
          "dtype": "f8"
         },
         "legendgroup": "1505",
         "lon": {
          "bdata": "TFV4pZggKsA=",
          "dtype": "f8"
         },
         "marker": {
          "color": "#FF6692",
          "opacity": 0.7
         },
         "mode": "markers",
         "name": "1505",
         "showlegend": true,
         "subplot": "mapbox",
         "type": "scattermapbox"
        },
        {
         "hovertemplate": "settlement_value=512<br>latitude=%{lat}<br>longitude=%{lon}<extra></extra>",
         "lat": {
          "bdata": "O11oTtydMEA=",
          "dtype": "f8"
         },
         "legendgroup": "512",
         "lon": {
          "bdata": "jZIURb41LsA=",
          "dtype": "f8"
         },
         "marker": {
          "color": "#B6E880",
          "opacity": 0.7
         },
         "mode": "markers",
         "name": "512",
         "showlegend": true,
         "subplot": "mapbox",
         "type": "scattermapbox"
        },
        {
         "hovertemplate": "settlement_value=44<br>latitude=%{lat}<br>longitude=%{lon}<extra></extra>",
         "lat": {
          "bdata": "d7Up+XyqMEC2IOUQ6k0wQNxBCNVZgTFAfDaJGaXpMEA=",
          "dtype": "f8"
         },
         "legendgroup": "44",
         "lon": {
          "bdata": "39eRKAIiKcC5OQr8gUEswNn3LLAJ7CbAeGw+Ki3sJ8A=",
          "dtype": "f8"
         },
         "marker": {
          "color": "#FF97FF",
          "opacity": 0.7
         },
         "mode": "markers",
         "name": "44",
         "showlegend": true,
         "subplot": "mapbox",
         "type": "scattermapbox"
        },
        {
         "hovertemplate": "settlement_value=3237<br>latitude=%{lat}<br>longitude=%{lon}<extra></extra>",
         "lat": {
          "bdata": "hjXTCBDKMEA=",
          "dtype": "f8"
         },
         "legendgroup": "3237",
         "lon": {
          "bdata": "2+x0AxJEKcA=",
          "dtype": "f8"
         },
         "marker": {
          "color": "#FECB52",
          "opacity": 0.7
         },
         "mode": "markers",
         "name": "3237",
         "showlegend": true,
         "subplot": "mapbox",
         "type": "scattermapbox"
        },
        {
         "hovertemplate": "settlement_value=2550<br>latitude=%{lat}<br>longitude=%{lon}<extra></extra>",
         "lat": {
          "bdata": "rOUtdRHyMEA=",
          "dtype": "f8"
         },
         "legendgroup": "2550",
         "lon": {
          "bdata": "3vdpoA9kL8A=",
          "dtype": "f8"
         },
         "marker": {
          "color": "#636efa",
          "opacity": 0.7
         },
         "mode": "markers",
         "name": "2550",
         "showlegend": true,
         "subplot": "mapbox",
         "type": "scattermapbox"
        },
        {
         "hovertemplate": "settlement_value=325<br>latitude=%{lat}<br>longitude=%{lon}<extra></extra>",
         "lat": {
          "bdata": "miGy0BGHMkBliX9oK341QA==",
          "dtype": "f8"
         },
         "legendgroup": "325",
         "lon": {
          "bdata": "WeU2MKeXKMBJYCbmpHgtwA==",
          "dtype": "f8"
         },
         "marker": {
          "color": "#EF553B",
          "opacity": 0.7
         },
         "mode": "markers",
         "name": "325",
         "showlegend": true,
         "subplot": "mapbox",
         "type": "scattermapbox"
        },
        {
         "hovertemplate": "settlement_value=9<br>latitude=%{lat}<br>longitude=%{lon}<extra></extra>",
         "lat": {
          "bdata": "eVdWO9GIMEDGpl674sw2QKMrwh57VjJA",
          "dtype": "f8"
         },
         "legendgroup": "9",
         "lon": {
          "bdata": "RzOzfpywLcBNENrHm4wpwAA2OJKh/i/A",
          "dtype": "f8"
         },
         "marker": {
          "color": "#00cc96",
          "opacity": 0.7
         },
         "mode": "markers",
         "name": "9",
         "showlegend": true,
         "subplot": "mapbox",
         "type": "scattermapbox"
        },
        {
         "hovertemplate": "settlement_value=60<br>latitude=%{lat}<br>longitude=%{lon}<extra></extra>",
         "lat": {
          "bdata": "ZyDpmpprMkCXGYPsHlIwQA==",
          "dtype": "f8"
         },
         "legendgroup": "60",
         "lon": {
          "bdata": "uNKKoCz8J8BSGhr8i3swwA==",
          "dtype": "f8"
         },
         "marker": {
          "color": "#ab63fa",
          "opacity": 0.7
         },
         "mode": "markers",
         "name": "60",
         "showlegend": true,
         "subplot": "mapbox",
         "type": "scattermapbox"
        },
        {
         "hovertemplate": "settlement_value=473<br>latitude=%{lat}<br>longitude=%{lon}<extra></extra>",
         "lat": {
          "bdata": "sOVFc6q5NkA=",
          "dtype": "f8"
         },
         "legendgroup": "473",
         "lon": {
          "bdata": "DtXbogKFKcA=",
          "dtype": "f8"
         },
         "marker": {
          "color": "#FFA15A",
          "opacity": 0.7
         },
         "mode": "markers",
         "name": "473",
         "showlegend": true,
         "subplot": "mapbox",
         "type": "scattermapbox"
        },
        {
         "hovertemplate": "settlement_value=594<br>latitude=%{lat}<br>longitude=%{lon}<extra></extra>",
         "lat": {
          "bdata": "8HEoxktONEA=",
          "dtype": "f8"
         },
         "legendgroup": "594",
         "lon": {
          "bdata": "mSJ03L2wKsA=",
          "dtype": "f8"
         },
         "marker": {
          "color": "#19d3f3",
          "opacity": 0.7
         },
         "mode": "markers",
         "name": "594",
         "showlegend": true,
         "subplot": "mapbox",
         "type": "scattermapbox"
        },
        {
         "hovertemplate": "settlement_value=34<br>latitude=%{lat}<br>longitude=%{lon}<extra></extra>",
         "lat": {
          "bdata": "6RwZwUIxMUA6YYAy5z0xQA==",
          "dtype": "f8"
         },
         "legendgroup": "34",
         "lon": {
          "bdata": "mGY6xp0ZKsCTuVuR7dcqwA==",
          "dtype": "f8"
         },
         "marker": {
          "color": "#FF6692",
          "opacity": 0.7
         },
         "mode": "markers",
         "name": "34",
         "showlegend": true,
         "subplot": "mapbox",
         "type": "scattermapbox"
        },
        {
         "hovertemplate": "settlement_value=3472<br>latitude=%{lat}<br>longitude=%{lon}<extra></extra>",
         "lat": {
          "bdata": "lZgtj8GbMEA=",
          "dtype": "f8"
         },
         "legendgroup": "3472",
         "lon": {
          "bdata": "GdKjkyHXLcA=",
          "dtype": "f8"
         },
         "marker": {
          "color": "#B6E880",
          "opacity": 0.7
         },
         "mode": "markers",
         "name": "3472",
         "showlegend": true,
         "subplot": "mapbox",
         "type": "scattermapbox"
        },
        {
         "hovertemplate": "settlement_value=4432<br>latitude=%{lat}<br>longitude=%{lon}<extra></extra>",
         "lat": {
          "bdata": "qRB9Z7lENUA=",
          "dtype": "f8"
         },
         "legendgroup": "4432",
         "lon": {
          "bdata": "PmMeTv+IMMA=",
          "dtype": "f8"
         },
         "marker": {
          "color": "#FF97FF",
          "opacity": 0.7
         },
         "mode": "markers",
         "name": "4432",
         "showlegend": true,
         "subplot": "mapbox",
         "type": "scattermapbox"
        },
        {
         "hovertemplate": "settlement_value=31609<br>latitude=%{lat}<br>longitude=%{lon}<extra></extra>",
         "lat": {
          "bdata": "7Mz+PN4jNEA=",
          "dtype": "f8"
         },
         "legendgroup": "31609",
         "lon": {
          "bdata": "zh0CtmrxL8A=",
          "dtype": "f8"
         },
         "marker": {
          "color": "#FECB52",
          "opacity": 0.7
         },
         "mode": "markers",
         "name": "31609",
         "showlegend": true,
         "subplot": "mapbox",
         "type": "scattermapbox"
        },
        {
         "hovertemplate": "settlement_value=100<br>latitude=%{lat}<br>longitude=%{lon}<extra></extra>",
         "lat": {
          "bdata": "IwPM9DuRMEA=",
          "dtype": "f8"
         },
         "legendgroup": "100",
         "lon": {
          "bdata": "r5dBGT1tLcA=",
          "dtype": "f8"
         },
         "marker": {
          "color": "#636efa",
          "opacity": 0.7
         },
         "mode": "markers",
         "name": "100",
         "showlegend": true,
         "subplot": "mapbox",
         "type": "scattermapbox"
        },
        {
         "hovertemplate": "settlement_value=113<br>latitude=%{lat}<br>longitude=%{lon}<extra></extra>",
         "lat": {
          "bdata": "o/0/moWPMkA=",
          "dtype": "f8"
         },
         "legendgroup": "113",
         "lon": {
          "bdata": "PEaeeXxWKcA=",
          "dtype": "f8"
         },
         "marker": {
          "color": "#EF553B",
          "opacity": 0.7
         },
         "mode": "markers",
         "name": "113",
         "showlegend": true,
         "subplot": "mapbox",
         "type": "scattermapbox"
        },
        {
         "hovertemplate": "settlement_value=296<br>latitude=%{lat}<br>longitude=%{lon}<extra></extra>",
         "lat": {
          "bdata": "4TTD2I0PMUA=",
          "dtype": "f8"
         },
         "legendgroup": "296",
         "lon": {
          "bdata": "qyZsSmKbK8A=",
          "dtype": "f8"
         },
         "marker": {
          "color": "#00cc96",
          "opacity": 0.7
         },
         "mode": "markers",
         "name": "296",
         "showlegend": true,
         "subplot": "mapbox",
         "type": "scattermapbox"
        },
        {
         "hovertemplate": "settlement_value=4309<br>latitude=%{lat}<br>longitude=%{lon}<extra></extra>",
         "lat": {
          "bdata": "Qm/RFakRMUA=",
          "dtype": "f8"
         },
         "legendgroup": "4309",
         "lon": {
          "bdata": "AIUoadGtKcA=",
          "dtype": "f8"
         },
         "marker": {
          "color": "#ab63fa",
          "opacity": 0.7
         },
         "mode": "markers",
         "name": "4309",
         "showlegend": true,
         "subplot": "mapbox",
         "type": "scattermapbox"
        },
        {
         "hovertemplate": "settlement_value=186<br>latitude=%{lat}<br>longitude=%{lon}<extra></extra>",
         "lat": {
          "bdata": "Cx0idIBFMEA=",
          "dtype": "f8"
         },
         "legendgroup": "186",
         "lon": {
          "bdata": "BMSw9AzMKcA=",
          "dtype": "f8"
         },
         "marker": {
          "color": "#FFA15A",
          "opacity": 0.7
         },
         "mode": "markers",
         "name": "186",
         "showlegend": true,
         "subplot": "mapbox",
         "type": "scattermapbox"
        },
        {
         "hovertemplate": "settlement_value=43<br>latitude=%{lat}<br>longitude=%{lon}<extra></extra>",
         "lat": {
          "bdata": "o/e2lUKzNkA/ILPaHd8wQFgyYAiK5zBA",
          "dtype": "f8"
         },
         "legendgroup": "43",
         "lon": {
          "bdata": "ImXVxXY+KcCttFBh9xQswExlkygAIyrA",
          "dtype": "f8"
         },
         "marker": {
          "color": "#19d3f3",
          "opacity": 0.7
         },
         "mode": "markers",
         "name": "43",
         "showlegend": true,
         "subplot": "mapbox",
         "type": "scattermapbox"
        },
        {
         "hovertemplate": "settlement_value=14<br>latitude=%{lat}<br>longitude=%{lon}<extra></extra>",
         "lat": {
          "bdata": "ygv5PpbGM0Bx8vXROLkwQHWGSMoFBTFA",
          "dtype": "f8"
         },
         "legendgroup": "14",
         "lon": {
          "bdata": "biFFvS4jKsDnCyU3f6wlwKruCdKkSyvA",
          "dtype": "f8"
         },
         "marker": {
          "color": "#FF6692",
          "opacity": 0.7
         },
         "mode": "markers",
         "name": "14",
         "showlegend": true,
         "subplot": "mapbox",
         "type": "scattermapbox"
        },
        {
         "hovertemplate": "settlement_value=16616<br>latitude=%{lat}<br>longitude=%{lon}<extra></extra>",
         "lat": {
          "bdata": "FylM15VFMkA=",
          "dtype": "f8"
         },
         "legendgroup": "16616",
         "lon": {
          "bdata": "utffMkgGJ8A=",
          "dtype": "f8"
         },
         "marker": {
          "color": "#B6E880",
          "opacity": 0.7
         },
         "mode": "markers",
         "name": "16616",
         "showlegend": true,
         "subplot": "mapbox",
         "type": "scattermapbox"
        },
        {
         "hovertemplate": "settlement_value=16<br>latitude=%{lat}<br>longitude=%{lon}<extra></extra>",
         "lat": {
          "bdata": "2/hauydnMEA=",
          "dtype": "f8"
         },
         "legendgroup": "16",
         "lon": {
          "bdata": "V1uY3yW9LcA=",
          "dtype": "f8"
         },
         "marker": {
          "color": "#FF97FF",
          "opacity": 0.7
         },
         "mode": "markers",
         "name": "16",
         "showlegend": true,
         "subplot": "mapbox",
         "type": "scattermapbox"
        },
        {
         "hovertemplate": "settlement_value=77<br>latitude=%{lat}<br>longitude=%{lon}<extra></extra>",
         "lat": {
          "bdata": "cfL10Ti5MEA=",
          "dtype": "f8"
         },
         "legendgroup": "77",
         "lon": {
          "bdata": "P0n5BlrQKcA=",
          "dtype": "f8"
         },
         "marker": {
          "color": "#FECB52",
          "opacity": 0.7
         },
         "mode": "markers",
         "name": "77",
         "showlegend": true,
         "subplot": "mapbox",
         "type": "scattermapbox"
        },
        {
         "hovertemplate": "settlement_value=1764<br>latitude=%{lat}<br>longitude=%{lon}<extra></extra>",
         "lat": {
          "bdata": "4TTD2I0PMUA=",
          "dtype": "f8"
         },
         "legendgroup": "1764",
         "lon": {
          "bdata": "ZsfNEvMWLsA=",
          "dtype": "f8"
         },
         "marker": {
          "color": "#636efa",
          "opacity": 0.7
         },
         "mode": "markers",
         "name": "1764",
         "showlegend": true,
         "subplot": "mapbox",
         "type": "scattermapbox"
        },
        {
         "hovertemplate": "settlement_value=4221<br>latitude=%{lat}<br>longitude=%{lon}<extra></extra>",
         "lat": {
          "bdata": "ZWzGqFaTMEA=",
          "dtype": "f8"
         },
         "legendgroup": "4221",
         "lon": {
          "bdata": "BKAOQOeMLcA=",
          "dtype": "f8"
         },
         "marker": {
          "color": "#EF553B",
          "opacity": 0.7
         },
         "mode": "markers",
         "name": "4221",
         "showlegend": true,
         "subplot": "mapbox",
         "type": "scattermapbox"
        },
        {
         "hovertemplate": "settlement_value=719<br>latitude=%{lat}<br>longitude=%{lon}<extra></extra>",
         "lat": {
          "bdata": "VYvWhztNNUA=",
          "dtype": "f8"
         },
         "legendgroup": "719",
         "lon": {
          "bdata": "Lx0gsUCEMMA=",
          "dtype": "f8"
         },
         "marker": {
          "color": "#00cc96",
          "opacity": 0.7
         },
         "mode": "markers",
         "name": "719",
         "showlegend": true,
         "subplot": "mapbox",
         "type": "scattermapbox"
        },
        {
         "hovertemplate": "settlement_value=13<br>latitude=%{lat}<br>longitude=%{lon}<extra></extra>",
         "lat": {
          "bdata": "zJTuiBVVMUCAQNHGLQY0QA==",
          "dtype": "f8"
         },
         "legendgroup": "13",
         "lon": {
          "bdata": "YYD2idkTK8AD1Mwl4rcrwA==",
          "dtype": "f8"
         },
         "marker": {
          "color": "#ab63fa",
          "opacity": 0.7
         },
         "mode": "markers",
         "name": "13",
         "showlegend": true,
         "subplot": "mapbox",
         "type": "scattermapbox"
        },
        {
         "hovertemplate": "settlement_value=4<br>latitude=%{lat}<br>longitude=%{lon}<extra></extra>",
         "lat": {
          "bdata": "Iy04+96eMUA=",
          "dtype": "f8"
         },
         "legendgroup": "4",
         "lon": {
          "bdata": "HB9z2COjKMA=",
          "dtype": "f8"
         },
         "marker": {
          "color": "#FFA15A",
          "opacity": 0.7
         },
         "mode": "markers",
         "name": "4",
         "showlegend": true,
         "subplot": "mapbox",
         "type": "scattermapbox"
        },
        {
         "hovertemplate": "settlement_value=37<br>latitude=%{lat}<br>longitude=%{lon}<extra></extra>",
         "lat": {
          "bdata": "I0E1HvJlMUDEbYghcA01QA==",
          "dtype": "f8"
         },
         "legendgroup": "37",
         "lon": {
          "bdata": "/pBDE1yZJcCZDExBPeAqwA==",
          "dtype": "f8"
         },
         "marker": {
          "color": "#19d3f3",
          "opacity": 0.7
         },
         "mode": "markers",
         "name": "37",
         "showlegend": true,
         "subplot": "mapbox",
         "type": "scattermapbox"
        },
        {
         "hovertemplate": "settlement_value=1064<br>latitude=%{lat}<br>longitude=%{lon}<extra></extra>",
         "lat": {
          "bdata": "Cx0idIBFMEA=",
          "dtype": "f8"
         },
         "legendgroup": "1064",
         "lon": {
          "bdata": "3vr8TFF3L8A=",
          "dtype": "f8"
         },
         "marker": {
          "color": "#FF6692",
          "opacity": 0.7
         },
         "mode": "markers",
         "name": "1064",
         "showlegend": true,
         "subplot": "mapbox",
         "type": "scattermapbox"
        },
        {
         "hovertemplate": "settlement_value=46<br>latitude=%{lat}<br>longitude=%{lon}<extra></extra>",
         "lat": {
          "bdata": "x81EepGiM0DvqP1RgyIxQA==",
          "dtype": "f8"
         },
         "legendgroup": "46",
         "lon": {
          "bdata": "8G4TzeWwLMDbW1CxeZQlwA==",
          "dtype": "f8"
         },
         "marker": {
          "color": "#B6E880",
          "opacity": 0.7
         },
         "mode": "markers",
         "name": "46",
         "showlegend": true,
         "subplot": "mapbox",
         "type": "scattermapbox"
        },
        {
         "hovertemplate": "settlement_value=6477<br>latitude=%{lat}<br>longitude=%{lon}<extra></extra>",
         "lat": {
          "bdata": "NtkGH9qxMUA=",
          "dtype": "f8"
         },
         "legendgroup": "6477",
         "lon": {
          "bdata": "TbkcbuZ/KMA=",
          "dtype": "f8"
         },
         "marker": {
          "color": "#FF97FF",
          "opacity": 0.7
         },
         "mode": "markers",
         "name": "6477",
         "showlegend": true,
         "subplot": "mapbox",
         "type": "scattermapbox"
        },
        {
         "hovertemplate": "settlement_value=133<br>latitude=%{lat}<br>longitude=%{lon}<extra></extra>",
         "lat": {
          "bdata": "k3e0RVVWM0A=",
          "dtype": "f8"
         },
         "legendgroup": "133",
         "lon": {
          "bdata": "mnMtkyVjMMA=",
          "dtype": "f8"
         },
         "marker": {
          "color": "#FECB52",
          "opacity": 0.7
         },
         "mode": "markers",
         "name": "133",
         "showlegend": true,
         "subplot": "mapbox",
         "type": "scattermapbox"
        },
        {
         "hovertemplate": "settlement_value=86<br>latitude=%{lat}<br>longitude=%{lon}<extra></extra>",
         "lat": {
          "bdata": "MUw+qnF8M0A=",
          "dtype": "f8"
         },
         "legendgroup": "86",
         "lon": {
          "bdata": "PlpzFwSrLcA=",
          "dtype": "f8"
         },
         "marker": {
          "color": "#636efa",
          "opacity": 0.7
         },
         "mode": "markers",
         "name": "86",
         "showlegend": true,
         "subplot": "mapbox",
         "type": "scattermapbox"
        },
        {
         "hovertemplate": "settlement_value=3290<br>latitude=%{lat}<br>longitude=%{lon}<extra></extra>",
         "lat": {
          "bdata": "zvNPtYqiMkA=",
          "dtype": "f8"
         },
         "legendgroup": "3290",
         "lon": {
          "bdata": "T5d0IkpJL8A=",
          "dtype": "f8"
         },
         "marker": {
          "color": "#EF553B",
          "opacity": 0.7
         },
         "mode": "markers",
         "name": "3290",
         "showlegend": true,
         "subplot": "mapbox",
         "type": "scattermapbox"
        },
        {
         "hovertemplate": "settlement_value=698<br>latitude=%{lat}<br>longitude=%{lon}<extra></extra>",
         "lat": {
          "bdata": "oZBbz5X5MUA=",
          "dtype": "f8"
         },
         "legendgroup": "698",
         "lon": {
          "bdata": "eGpgr2RmKMA=",
          "dtype": "f8"
         },
         "marker": {
          "color": "#00cc96",
          "opacity": 0.7
         },
         "mode": "markers",
         "name": "698",
         "showlegend": true,
         "subplot": "mapbox",
         "type": "scattermapbox"
        },
        {
         "hovertemplate": "settlement_value=236<br>latitude=%{lat}<br>longitude=%{lon}<extra></extra>",
         "lat": {
          "bdata": "fDaJGaXpMEA=",
          "dtype": "f8"
         },
         "legendgroup": "236",
         "lon": {
          "bdata": "2NhwOmw4JsA=",
          "dtype": "f8"
         },
         "marker": {
          "color": "#ab63fa",
          "opacity": 0.7
         },
         "mode": "markers",
         "name": "236",
         "showlegend": true,
         "subplot": "mapbox",
         "type": "scattermapbox"
        },
        {
         "hovertemplate": "settlement_value=26<br>latitude=%{lat}<br>longitude=%{lon}<extra></extra>",
         "lat": {
          "bdata": "KrVYHqkONEC9G6CZLKQwQJSdZoJu2jRAm20jm+oCMUA=",
          "dtype": "f8"
         },
         "legendgroup": "26",
         "lon": {
          "bdata": "pvnczTV6KsBTHEm+3pMowHiAw1WzairAX2OVRDeBKMA=",
          "dtype": "f8"
         },
         "marker": {
          "color": "#FFA15A",
          "opacity": 0.7
         },
         "mode": "markers",
         "name": "26",
         "showlegend": true,
         "subplot": "mapbox",
         "type": "scattermapbox"
        },
        {
         "hovertemplate": "settlement_value=87<br>latitude=%{lat}<br>longitude=%{lon}<extra></extra>",
         "lat": {
          "bdata": "0kQAX3GVMEA=",
          "dtype": "f8"
         },
         "legendgroup": "87",
         "lon": {
          "bdata": "pVkvl7nxLsA=",
          "dtype": "f8"
         },
         "marker": {
          "color": "#19d3f3",
          "opacity": 0.7
         },
         "mode": "markers",
         "name": "87",
         "showlegend": true,
         "subplot": "mapbox",
         "type": "scattermapbox"
        },
        {
         "hovertemplate": "settlement_value=455<br>latitude=%{lat}<br>longitude=%{lon}<extra></extra>",
         "lat": {
          "bdata": "dPBU9R23MEA=",
          "dtype": "f8"
         },
         "legendgroup": "455",
         "lon": {
          "bdata": "UsmtGhrgLsA=",
          "dtype": "f8"
         },
         "marker": {
          "color": "#FF6692",
          "opacity": 0.7
         },
         "mode": "markers",
         "name": "455",
         "showlegend": true,
         "subplot": "mapbox",
         "type": "scattermapbox"
        },
        {
         "hovertemplate": "settlement_value=182<br>latitude=%{lat}<br>longitude=%{lon}<extra></extra>",
         "lat": {
          "bdata": "r88Hkm69MEA=",
          "dtype": "f8"
         },
         "legendgroup": "182",
         "lon": {
          "bdata": "iDUl23Y6JsA=",
          "dtype": "f8"
         },
         "marker": {
          "color": "#B6E880",
          "opacity": 0.7
         },
         "mode": "markers",
         "name": "182",
         "showlegend": true,
         "subplot": "mapbox",
         "type": "scattermapbox"
        },
        {
         "hovertemplate": "settlement_value=693<br>latitude=%{lat}<br>longitude=%{lon}<extra></extra>",
         "lat": {
          "bdata": "L02h0xGiMEA=",
          "dtype": "f8"
         },
         "legendgroup": "693",
         "lon": {
          "bdata": "DNNbJjuKKcA=",
          "dtype": "f8"
         },
         "marker": {
          "color": "#FF97FF",
          "opacity": 0.7
         },
         "mode": "markers",
         "name": "693",
         "showlegend": true,
         "subplot": "mapbox",
         "type": "scattermapbox"
        },
        {
         "hovertemplate": "settlement_value=82<br>latitude=%{lat}<br>longitude=%{lon}<extra></extra>",
         "lat": {
          "bdata": "cFPwBUx+MEA=",
          "dtype": "f8"
         },
         "legendgroup": "82",
         "lon": {
          "bdata": "F3gnY3/0KMA=",
          "dtype": "f8"
         },
         "marker": {
          "color": "#FECB52",
          "opacity": 0.7
         },
         "mode": "markers",
         "name": "82",
         "showlegend": true,
         "subplot": "mapbox",
         "type": "scattermapbox"
        },
        {
         "hovertemplate": "settlement_value=71<br>latitude=%{lat}<br>longitude=%{lon}<extra></extra>",
         "lat": {
          "bdata": "0b/x42WxM0A=",
          "dtype": "f8"
         },
         "legendgroup": "71",
         "lon": {
          "bdata": "OZXaYWc8LcA=",
          "dtype": "f8"
         },
         "marker": {
          "color": "#636efa",
          "opacity": 0.7
         },
         "mode": "markers",
         "name": "71",
         "showlegend": true,
         "subplot": "mapbox",
         "type": "scattermapbox"
        },
        {
         "hovertemplate": "settlement_value=7058<br>latitude=%{lat}<br>longitude=%{lon}<extra></extra>",
         "lat": {
          "bdata": "cmceS+o4MkA=",
          "dtype": "f8"
         },
         "legendgroup": "7058",
         "lon": {
          "bdata": "oJLIBSzxLcA=",
          "dtype": "f8"
         },
         "marker": {
          "color": "#EF553B",
          "opacity": 0.7
         },
         "mode": "markers",
         "name": "7058",
         "showlegend": true,
         "subplot": "mapbox",
         "type": "scattermapbox"
        },
        {
         "hovertemplate": "settlement_value=66<br>latitude=%{lat}<br>longitude=%{lon}<extra></extra>",
         "lat": {
          "bdata": "+zUUIZk1N0A=",
          "dtype": "f8"
         },
         "legendgroup": "66",
         "lon": {
          "bdata": "Gmiawh1mKMA=",
          "dtype": "f8"
         },
         "marker": {
          "color": "#00cc96",
          "opacity": 0.7
         },
         "mode": "markers",
         "name": "66",
         "showlegend": true,
         "subplot": "mapbox",
         "type": "scattermapbox"
        },
        {
         "hovertemplate": "settlement_value=132<br>latitude=%{lat}<br>longitude=%{lon}<extra></extra>",
         "lat": {
          "bdata": "NtkGH9qxMUA=",
          "dtype": "f8"
         },
         "legendgroup": "132",
         "lon": {
          "bdata": "Rcpmjn+IJ8A=",
          "dtype": "f8"
         },
         "marker": {
          "color": "#ab63fa",
          "opacity": 0.7
         },
         "mode": "markers",
         "name": "132",
         "showlegend": true,
         "subplot": "mapbox",
         "type": "scattermapbox"
        },
        {
         "hovertemplate": "settlement_value=112<br>latitude=%{lat}<br>longitude=%{lon}<extra></extra>",
         "lat": {
          "bdata": "CtxP/URsMUA=",
          "dtype": "f8"
         },
         "legendgroup": "112",
         "lon": {
          "bdata": "UnSy7+JRJsA=",
          "dtype": "f8"
         },
         "marker": {
          "color": "#FFA15A",
          "opacity": 0.7
         },
         "mode": "markers",
         "name": "112",
         "showlegend": true,
         "subplot": "mapbox",
         "type": "scattermapbox"
        },
        {
         "hovertemplate": "settlement_value=1128<br>latitude=%{lat}<br>longitude=%{lon}<extra></extra>",
         "lat": {
          "bdata": "LTNW5uuKMEA=",
          "dtype": "f8"
         },
         "legendgroup": "1128",
         "lon": {
          "bdata": "22NlnWEXJsA=",
          "dtype": "f8"
         },
         "marker": {
          "color": "#19d3f3",
          "opacity": 0.7
         },
         "mode": "markers",
         "name": "1128",
         "showlegend": true,
         "subplot": "mapbox",
         "type": "scattermapbox"
        },
        {
         "hovertemplate": "settlement_value=5037<br>latitude=%{lat}<br>longitude=%{lon}<extra></extra>",
         "lat": {
          "bdata": "yK3p8rPoMUA=",
          "dtype": "f8"
         },
         "legendgroup": "5037",
         "lon": {
          "bdata": "w6a0rsP8L8A=",
          "dtype": "f8"
         },
         "marker": {
          "color": "#FF6692",
          "opacity": 0.7
         },
         "mode": "markers",
         "name": "5037",
         "showlegend": true,
         "subplot": "mapbox",
         "type": "scattermapbox"
        },
        {
         "hovertemplate": "settlement_value=150<br>latitude=%{lat}<br>longitude=%{lon}<extra></extra>",
         "lat": {
          "bdata": "cfL10Ti5MEA=",
          "dtype": "f8"
         },
         "legendgroup": "150",
         "lon": {
          "bdata": "9w72dZE8LcA=",
          "dtype": "f8"
         },
         "marker": {
          "color": "#B6E880",
          "opacity": 0.7
         },
         "mode": "markers",
         "name": "150",
         "showlegend": true,
         "subplot": "mapbox",
         "type": "scattermapbox"
        },
        {
         "hovertemplate": "settlement_value=7647<br>latitude=%{lat}<br>longitude=%{lon}<extra></extra>",
         "lat": {
          "bdata": "b0h+mbKuMEA=",
          "dtype": "f8"
         },
         "legendgroup": "7647",
         "lon": {
          "bdata": "vJlkiicdLsA=",
          "dtype": "f8"
         },
         "marker": {
          "color": "#FF97FF",
          "opacity": 0.7
         },
         "mode": "markers",
         "name": "7647",
         "showlegend": true,
         "subplot": "mapbox",
         "type": "scattermapbox"
        },
        {
         "hovertemplate": "settlement_value=38<br>latitude=%{lat}<br>longitude=%{lon}<extra></extra>",
         "lat": {
          "bdata": "rtUP7JuEMEA=",
          "dtype": "f8"
         },
         "legendgroup": "38",
         "lon": {
          "bdata": "ou/egNzZJ8A=",
          "dtype": "f8"
         },
         "marker": {
          "color": "#FECB52",
          "opacity": 0.7
         },
         "mode": "markers",
         "name": "38",
         "showlegend": true,
         "subplot": "mapbox",
         "type": "scattermapbox"
        },
        {
         "hovertemplate": "settlement_value=23<br>latitude=%{lat}<br>longitude=%{lon}<extra></extra>",
         "lat": {
          "bdata": "8AEdwAeANkDX/3w41G8yQEpgpliwOTFA",
          "dtype": "f8"
         },
         "legendgroup": "23",
         "lon": {
          "bdata": "lo0B7sCDKcBoiANEUtcvwETNod/MhS/A",
          "dtype": "f8"
         },
         "marker": {
          "color": "#636efa",
          "opacity": 0.7
         },
         "mode": "markers",
         "name": "23",
         "showlegend": true,
         "subplot": "mapbox",
         "type": "scattermapbox"
        },
        {
         "hovertemplate": "settlement_value=2697<br>latitude=%{lat}<br>longitude=%{lon}<extra></extra>",
         "lat": {
          "bdata": "ouBzs/JiMEA=",
          "dtype": "f8"
         },
         "legendgroup": "2697",
         "lon": {
          "bdata": "AM9RjJ/DL8A=",
          "dtype": "f8"
         },
         "marker": {
          "color": "#EF553B",
          "opacity": 0.7
         },
         "mode": "markers",
         "name": "2697",
         "showlegend": true,
         "subplot": "mapbox",
         "type": "scattermapbox"
        },
        {
         "hovertemplate": "settlement_value=3221<br>latitude=%{lat}<br>longitude=%{lon}<extra></extra>",
         "lat": {
          "bdata": "HqREvohaMEA=",
          "dtype": "f8"
         },
         "legendgroup": "3221",
         "lon": {
          "bdata": "cLV0sxtoLcA=",
          "dtype": "f8"
         },
         "marker": {
          "color": "#00cc96",
          "opacity": 0.7
         },
         "mode": "markers",
         "name": "3221",
         "showlegend": true,
         "subplot": "mapbox",
         "type": "scattermapbox"
        },
        {
         "hovertemplate": "settlement_value=41<br>latitude=%{lat}<br>longitude=%{lon}<extra></extra>",
         "lat": {
          "bdata": "LTNW5uuKMEB2U5SStoYwQA==",
          "dtype": "f8"
         },
         "legendgroup": "41",
         "lon": {
          "bdata": "fN2Tdhz8L8DjcZV133QrwA==",
          "dtype": "f8"
         },
         "marker": {
          "color": "#ab63fa",
          "opacity": 0.7
         },
         "mode": "markers",
         "name": "41",
         "showlegend": true,
         "subplot": "mapbox",
         "type": "scattermapbox"
        },
        {
         "hovertemplate": "settlement_value=117<br>latitude=%{lat}<br>longitude=%{lon}<extra></extra>",
         "lat": {
          "bdata": "6BklzFxrMEA=",
          "dtype": "f8"
         },
         "legendgroup": "117",
         "lon": {
          "bdata": "Bgdd2Nh1L8A=",
          "dtype": "f8"
         },
         "marker": {
          "color": "#FFA15A",
          "opacity": 0.7
         },
         "mode": "markers",
         "name": "117",
         "showlegend": true,
         "subplot": "mapbox",
         "type": "scattermapbox"
        },
        {
         "hovertemplate": "settlement_value=143<br>latitude=%{lat}<br>longitude=%{lon}<extra></extra>",
         "lat": {
          "bdata": "zfGHEwkIM0A=",
          "dtype": "f8"
         },
         "legendgroup": "143",
         "lon": {
          "bdata": "QeAFqjzrKcA=",
          "dtype": "f8"
         },
         "marker": {
          "color": "#19d3f3",
          "opacity": 0.7
         },
         "mode": "markers",
         "name": "143",
         "showlegend": true,
         "subplot": "mapbox",
         "type": "scattermapbox"
        },
        {
         "hovertemplate": "settlement_value=22<br>latitude=%{lat}<br>longitude=%{lon}<extra></extra>",
         "lat": {
          "bdata": "HEzt2voXMUDEbYghcA01QO95j1Bu6zRA",
          "dtype": "f8"
         },
         "legendgroup": "22",
         "lon": {
          "bdata": "eytln8q2L8BNlnlpQ+smwNOiJsIy1i7A",
          "dtype": "f8"
         },
         "marker": {
          "color": "#FF6692",
          "opacity": 0.7
         },
         "mode": "markers",
         "name": "22",
         "showlegend": true,
         "subplot": "mapbox",
         "type": "scattermapbox"
        },
        {
         "hovertemplate": "settlement_value=39<br>latitude=%{lat}<br>longitude=%{lon}<extra></extra>",
         "lat": {
          "bdata": "vzmVG5n8MEA=",
          "dtype": "f8"
         },
         "legendgroup": "39",
         "lon": {
          "bdata": "Et8E8FAaLsA=",
          "dtype": "f8"
         },
         "marker": {
          "color": "#B6E880",
          "opacity": 0.7
         },
         "mode": "markers",
         "name": "39",
         "showlegend": true,
         "subplot": "mapbox",
         "type": "scattermapbox"
        },
        {
         "hovertemplate": "settlement_value=17<br>latitude=%{lat}<br>longitude=%{lon}<extra></extra>",
         "lat": {
          "bdata": "htgRdzc8NUBnaJ1lVwsxQA==",
          "dtype": "f8"
         },
         "legendgroup": "17",
         "lon": {
          "bdata": "h/XskTFbLsC9yJ8klbclwA==",
          "dtype": "f8"
         },
         "marker": {
          "color": "#FF97FF",
          "opacity": 0.7
         },
         "mode": "markers",
         "name": "17",
         "showlegend": true,
         "subplot": "mapbox",
         "type": "scattermapbox"
        },
        {
         "hovertemplate": "settlement_value=6755<br>latitude=%{lat}<br>longitude=%{lon}<extra></extra>",
         "lat": {
          "bdata": "OMVmuRajMUA=",
          "dtype": "f8"
         },
         "legendgroup": "6755",
         "lon": {
          "bdata": "Q4rV0k+NLcA=",
          "dtype": "f8"
         },
         "marker": {
          "color": "#FECB52",
          "opacity": 0.7
         },
         "mode": "markers",
         "name": "6755",
         "showlegend": true,
         "subplot": "mapbox",
         "type": "scattermapbox"
        },
        {
         "hovertemplate": "settlement_value=232<br>latitude=%{lat}<br>longitude=%{lon}<extra></extra>",
         "lat": {
          "bdata": "9N15F4yXMEA=",
          "dtype": "f8"
         },
         "legendgroup": "232",
         "lon": {
          "bdata": "cV4C32oQLsA=",
          "dtype": "f8"
         },
         "marker": {
          "color": "#636efa",
          "opacity": 0.7
         },
         "mode": "markers",
         "name": "232",
         "showlegend": true,
         "subplot": "mapbox",
         "type": "scattermapbox"
        },
        {
         "hovertemplate": "settlement_value=1<br>latitude=%{lat}<br>longitude=%{lon}<extra></extra>",
         "lat": {
          "bdata": "DrFoKfiONkCQTnl1ib8wQDNQ7vkqzDBA",
          "dtype": "f8"
         },
         "legendgroup": "1",
         "lon": {
          "bdata": "mJ6XmYk8J8Aorr8G+xMpwHh+W/3O7CXA",
          "dtype": "f8"
         },
         "marker": {
          "color": "#EF553B",
          "opacity": 0.7
         },
         "mode": "markers",
         "name": "1",
         "showlegend": true,
         "subplot": "mapbox",
         "type": "scattermapbox"
        },
        {
         "hovertemplate": "settlement_value=40<br>latitude=%{lat}<br>longitude=%{lon}<extra></extra>",
         "lat": {
          "bdata": "QOQGqPAqMUA=",
          "dtype": "f8"
         },
         "legendgroup": "40",
         "lon": {
          "bdata": "jf7k134RLMA=",
          "dtype": "f8"
         },
         "marker": {
          "color": "#00cc96",
          "opacity": 0.7
         },
         "mode": "markers",
         "name": "40",
         "showlegend": true,
         "subplot": "mapbox",
         "type": "scattermapbox"
        },
        {
         "hovertemplate": "settlement_value=122<br>latitude=%{lat}<br>longitude=%{lon}<extra></extra>",
         "lat": {
          "bdata": "Yyam+5L/MkA=",
          "dtype": "f8"
         },
         "legendgroup": "122",
         "lon": {
          "bdata": "rze+PEtGLsA=",
          "dtype": "f8"
         },
         "marker": {
          "color": "#ab63fa",
          "opacity": 0.7
         },
         "mode": "markers",
         "name": "122",
         "showlegend": true,
         "subplot": "mapbox",
         "type": "scattermapbox"
        },
        {
         "hovertemplate": "settlement_value=96<br>latitude=%{lat}<br>longitude=%{lon}<extra></extra>",
         "lat": {
          "bdata": "tjvx2nvSMEA=",
          "dtype": "f8"
         },
         "legendgroup": "96",
         "lon": {
          "bdata": "Xu0BxyAdK8A=",
          "dtype": "f8"
         },
         "marker": {
          "color": "#FFA15A",
          "opacity": 0.7
         },
         "mode": "markers",
         "name": "96",
         "showlegend": true,
         "subplot": "mapbox",
         "type": "scattermapbox"
        },
        {
         "hovertemplate": "settlement_value=154<br>latitude=%{lat}<br>longitude=%{lon}<extra></extra>",
         "lat": {
          "bdata": "6BklzFxrMEA=",
          "dtype": "f8"
         },
         "legendgroup": "154",
         "lon": {
          "bdata": "AMamQ9+MJcA=",
          "dtype": "f8"
         },
         "marker": {
          "color": "#19d3f3",
          "opacity": 0.7
         },
         "mode": "markers",
         "name": "154",
         "showlegend": true,
         "subplot": "mapbox",
         "type": "scattermapbox"
        },
        {
         "hovertemplate": "settlement_value=1523<br>latitude=%{lat}<br>longitude=%{lon}<extra></extra>",
         "lat": {
          "bdata": "QDRLNg1lMEA=",
          "dtype": "f8"
         },
         "legendgroup": "1523",
         "lon": {
          "bdata": "YOWWsc1AL8A=",
          "dtype": "f8"
         },
         "marker": {
          "color": "#FF6692",
          "opacity": 0.7
         },
         "mode": "markers",
         "name": "1523",
         "showlegend": true,
         "subplot": "mapbox",
         "type": "scattermapbox"
        },
        {
         "hovertemplate": "settlement_value=5975<br>latitude=%{lat}<br>longitude=%{lon}<extra></extra>",
         "lat": {
          "bdata": "kE55dYm/MEA=",
          "dtype": "f8"
         },
         "legendgroup": "5975",
         "lon": {
          "bdata": "+Ud/m/aCJcA=",
          "dtype": "f8"
         },
         "marker": {
          "color": "#B6E880",
          "opacity": 0.7
         },
         "mode": "markers",
         "name": "5975",
         "showlegend": true,
         "subplot": "mapbox",
         "type": "scattermapbox"
        },
        {
         "hovertemplate": "settlement_value=89<br>latitude=%{lat}<br>longitude=%{lon}<extra></extra>",
         "lat": {
          "bdata": "W4kz0qaZMEA=",
          "dtype": "f8"
         },
         "legendgroup": "89",
         "lon": {
          "bdata": "fXQQkZtcJsA=",
          "dtype": "f8"
         },
         "marker": {
          "color": "#FF97FF",
          "opacity": 0.7
         },
         "mode": "markers",
         "name": "89",
         "showlegend": true,
         "subplot": "mapbox",
         "type": "scattermapbox"
        },
        {
         "hovertemplate": "settlement_value=31<br>latitude=%{lat}<br>longitude=%{lon}<extra></extra>",
         "lat": {
          "bdata": "R74ZESVQMkA=",
          "dtype": "f8"
         },
         "legendgroup": "31",
         "lon": {
          "bdata": "PQ5GGJEuKMA=",
          "dtype": "f8"
         },
         "marker": {
          "color": "#FECB52",
          "opacity": 0.7
         },
         "mode": "markers",
         "name": "31",
         "showlegend": true,
         "subplot": "mapbox",
         "type": "scattermapbox"
        },
        {
         "hovertemplate": "settlement_value=8870<br>latitude=%{lat}<br>longitude=%{lon}<extra></extra>",
         "lat": {
          "bdata": "V+BgS892MUA=",
          "dtype": "f8"
         },
         "legendgroup": "8870",
         "lon": {
          "bdata": "xC9JM5kRLsA=",
          "dtype": "f8"
         },
         "marker": {
          "color": "#636efa",
          "opacity": 0.7
         },
         "mode": "markers",
         "name": "8870",
         "showlegend": true,
         "subplot": "mapbox",
         "type": "scattermapbox"
        },
        {
         "hovertemplate": "settlement_value=434<br>latitude=%{lat}<br>longitude=%{lon}<extra></extra>",
         "lat": {
          "bdata": "fULRbmR6MkA=",
          "dtype": "f8"
         },
         "legendgroup": "434",
         "lon": {
          "bdata": "dYVcaxYAJ8A=",
          "dtype": "f8"
         },
         "marker": {
          "color": "#EF553B",
          "opacity": 0.7
         },
         "mode": "markers",
         "name": "434",
         "showlegend": true,
         "subplot": "mapbox",
         "type": "scattermapbox"
        },
        {
         "hovertemplate": "settlement_value=2193<br>latitude=%{lat}<br>longitude=%{lon}<extra></extra>",
         "lat": {
          "bdata": "IwPM9DuRMEA=",
          "dtype": "f8"
         },
         "legendgroup": "2193",
         "lon": {
          "bdata": "bpdUoipvL8A=",
          "dtype": "f8"
         },
         "marker": {
          "color": "#00cc96",
          "opacity": 0.7
         },
         "mode": "markers",
         "name": "2193",
         "showlegend": true,
         "subplot": "mapbox",
         "type": "scattermapbox"
        },
        {
         "hovertemplate": "settlement_value=8695<br>latitude=%{lat}<br>longitude=%{lon}<extra></extra>",
         "lat": {
          "bdata": "g7cQQyGPMEA=",
          "dtype": "f8"
         },
         "legendgroup": "8695",
         "lon": {
          "bdata": "+Ett1AKrLMA=",
          "dtype": "f8"
         },
         "marker": {
          "color": "#ab63fa",
          "opacity": 0.7
         },
         "mode": "markers",
         "name": "8695",
         "showlegend": true,
         "subplot": "mapbox",
         "type": "scattermapbox"
        },
        {
         "hovertemplate": "settlement_value=9874<br>latitude=%{lat}<br>longitude=%{lon}<extra></extra>",
         "lat": {
          "bdata": "vRugmSykMEA=",
          "dtype": "f8"
         },
         "legendgroup": "9874",
         "lon": {
          "bdata": "yNmXAQysJsA=",
          "dtype": "f8"
         },
         "marker": {
          "color": "#FFA15A",
          "opacity": 0.7
         },
         "mode": "markers",
         "name": "9874",
         "showlegend": true,
         "subplot": "mapbox",
         "type": "scattermapbox"
        },
        {
         "hovertemplate": "settlement_value=490<br>latitude=%{lat}<br>longitude=%{lon}<extra></extra>",
         "lat": {
          "bdata": "NZRUGNMkNUA=",
          "dtype": "f8"
         },
         "legendgroup": "490",
         "lon": {
          "bdata": "D7vdSB5kMMA=",
          "dtype": "f8"
         },
         "marker": {
          "color": "#19d3f3",
          "opacity": 0.7
         },
         "mode": "markers",
         "name": "490",
         "showlegend": true,
         "subplot": "mapbox",
         "type": "scattermapbox"
        },
        {
         "hovertemplate": "settlement_value=2205<br>latitude=%{lat}<br>longitude=%{lon}<extra></extra>",
         "lat": {
          "bdata": "6CqufbABM0A=",
          "dtype": "f8"
         },
         "legendgroup": "2205",
         "lon": {
          "bdata": "0C2cl0NmLsA=",
          "dtype": "f8"
         },
         "marker": {
          "color": "#FF6692",
          "opacity": 0.7
         },
         "mode": "markers",
         "name": "2205",
         "showlegend": true,
         "subplot": "mapbox",
         "type": "scattermapbox"
        },
        {
         "hovertemplate": "settlement_value=134<br>latitude=%{lat}<br>longitude=%{lon}<extra></extra>",
         "lat": {
          "bdata": "s5TF/7nCMUA7XWhO3J0wQA==",
          "dtype": "f8"
         },
         "legendgroup": "134",
         "lon": {
          "bdata": "jMFVIWCYKcCrNtguV6YmwA==",
          "dtype": "f8"
         },
         "marker": {
          "color": "#B6E880",
          "opacity": 0.7
         },
         "mode": "markers",
         "name": "134",
         "showlegend": true,
         "subplot": "mapbox",
         "type": "scattermapbox"
        },
        {
         "hovertemplate": "settlement_value=1112<br>latitude=%{lat}<br>longitude=%{lon}<extra></extra>",
         "lat": {
          "bdata": "5SjkD/efMEA=",
          "dtype": "f8"
         },
         "legendgroup": "1112",
         "lon": {
          "bdata": "7j54q/wLLsA=",
          "dtype": "f8"
         },
         "marker": {
          "color": "#FF97FF",
          "opacity": 0.7
         },
         "mode": "markers",
         "name": "1112",
         "showlegend": true,
         "subplot": "mapbox",
         "type": "scattermapbox"
        },
        {
         "hovertemplate": "settlement_value=3415<br>latitude=%{lat}<br>longitude=%{lon}<extra></extra>",
         "lat": {
          "bdata": "+fkaPrVJMEA=",
          "dtype": "f8"
         },
         "legendgroup": "3415",
         "lon": {
          "bdata": "x+m9nx1QK8A=",
          "dtype": "f8"
         },
         "marker": {
          "color": "#FECB52",
          "opacity": 0.7
         },
         "mode": "markers",
         "name": "3415",
         "showlegend": true,
         "subplot": "mapbox",
         "type": "scattermapbox"
        },
        {
         "hovertemplate": "settlement_value=72<br>latitude=%{lat}<br>longitude=%{lon}<extra></extra>",
         "lat": {
          "bdata": "o32MnlxBMkA=",
          "dtype": "f8"
         },
         "legendgroup": "72",
         "lon": {
          "bdata": "EzRKIv5dL8A=",
          "dtype": "f8"
         },
         "marker": {
          "color": "#636efa",
          "opacity": 0.7
         },
         "mode": "markers",
         "name": "72",
         "showlegend": true,
         "subplot": "mapbox",
         "type": "scattermapbox"
        },
        {
         "hovertemplate": "settlement_value=260<br>latitude=%{lat}<br>longitude=%{lon}<extra></extra>",
         "lat": {
          "bdata": "evA9L0QMM0A=",
          "dtype": "f8"
         },
         "legendgroup": "260",
         "lon": {
          "bdata": "KMoz3ZdXLsA=",
          "dtype": "f8"
         },
         "marker": {
          "color": "#EF553B",
          "opacity": 0.7
         },
         "mode": "markers",
         "name": "260",
         "showlegend": true,
         "subplot": "mapbox",
         "type": "scattermapbox"
        },
        {
         "hovertemplate": "settlement_value=20946<br>latitude=%{lat}<br>longitude=%{lon}<extra></extra>",
         "lat": {
          "bdata": "em1tu7WaNEA=",
          "dtype": "f8"
         },
         "legendgroup": "20946",
         "lon": {
          "bdata": "+eTHKVoJKsA=",
          "dtype": "f8"
         },
         "marker": {
          "color": "#00cc96",
          "opacity": 0.7
         },
         "mode": "markers",
         "name": "20946",
         "showlegend": true,
         "subplot": "mapbox",
         "type": "scattermapbox"
        },
        {
         "hovertemplate": "settlement_value=52<br>latitude=%{lat}<br>longitude=%{lon}<extra></extra>",
         "lat": {
          "bdata": "ZYhW+LkmMUCXGYPsHlIwQDtdaE7cnTBA",
          "dtype": "f8"
         },
         "legendgroup": "52",
         "lon": {
          "bdata": "edjoLv7bJ8BTo3eU2B8wwNg4v6E/Ki3A",
          "dtype": "f8"
         },
         "marker": {
          "color": "#ab63fa",
          "opacity": 0.7
         },
         "mode": "markers",
         "name": "52",
         "showlegend": true,
         "subplot": "mapbox",
         "type": "scattermapbox"
        },
        {
         "hovertemplate": "settlement_value=3120<br>latitude=%{lat}<br>longitude=%{lon}<extra></extra>",
         "lat": {
          "bdata": "GXMZ0mL4MEA=",
          "dtype": "f8"
         },
         "legendgroup": "3120",
         "lon": {
          "bdata": "FjmzisAYMMA=",
          "dtype": "f8"
         },
         "marker": {
          "color": "#FFA15A",
          "opacity": 0.7
         },
         "mode": "markers",
         "name": "3120",
         "showlegend": true,
         "subplot": "mapbox",
         "type": "scattermapbox"
        },
        {
         "hovertemplate": "settlement_value=6582<br>latitude=%{lat}<br>longitude=%{lon}<extra></extra>",
         "lat": {
          "bdata": "8QSrRqeaMUA=",
          "dtype": "f8"
         },
         "legendgroup": "6582",
         "lon": {
          "bdata": "iIsNi3koLcA=",
          "dtype": "f8"
         },
         "marker": {
          "color": "#19d3f3",
          "opacity": 0.7
         },
         "mode": "markers",
         "name": "6582",
         "showlegend": true,
         "subplot": "mapbox",
         "type": "scattermapbox"
        },
        {
         "hovertemplate": "settlement_value=6128<br>latitude=%{lat}<br>longitude=%{lon}<extra></extra>",
         "lat": {
          "bdata": "1BjgV3dtMEA=",
          "dtype": "f8"
         },
         "legendgroup": "6128",
         "lon": {
          "bdata": "N1ip8uEkLMA=",
          "dtype": "f8"
         },
         "marker": {
          "color": "#FF6692",
          "opacity": 0.7
         },
         "mode": "markers",
         "name": "6128",
         "showlegend": true,
         "subplot": "mapbox",
         "type": "scattermapbox"
        },
        {
         "hovertemplate": "settlement_value=653<br>latitude=%{lat}<br>longitude=%{lon}<extra></extra>",
         "lat": {
          "bdata": "mmzOkPY3NUA=",
          "dtype": "f8"
         },
         "legendgroup": "653",
         "lon": {
          "bdata": "KQDYh0o6KsA=",
          "dtype": "f8"
         },
         "marker": {
          "color": "#B6E880",
          "opacity": 0.7
         },
         "mode": "markers",
         "name": "653",
         "showlegend": true,
         "subplot": "mapbox",
         "type": "scattermapbox"
        },
        {
         "hovertemplate": "settlement_value=141655<br>latitude=%{lat}<br>longitude=%{lon}<extra></extra>",
         "lat": {
          "bdata": "Rw6aoeklMkA=",
          "dtype": "f8"
         },
         "legendgroup": "141655",
         "lon": {
          "bdata": "Q1ERlAPkL8A=",
          "dtype": "f8"
         },
         "marker": {
          "color": "#FF97FF",
          "opacity": 0.7
         },
         "mode": "markers",
         "name": "141655",
         "showlegend": true,
         "subplot": "mapbox",
         "type": "scattermapbox"
        },
        {
         "hovertemplate": "settlement_value=65<br>latitude=%{lat}<br>longitude=%{lon}<extra></extra>",
         "lat": {
          "bdata": "s4zIR4GCMEA=",
          "dtype": "f8"
         },
         "legendgroup": "65",
         "lon": {
          "bdata": "OwcYvLt+JcA=",
          "dtype": "f8"
         },
         "marker": {
          "color": "#FECB52",
          "opacity": 0.7
         },
         "mode": "markers",
         "name": "65",
         "showlegend": true,
         "subplot": "mapbox",
         "type": "scattermapbox"
        },
        {
         "hovertemplate": "settlement_value=35<br>latitude=%{lat}<br>longitude=%{lon}<extra></extra>",
         "lat": {
          "bdata": "NKNumuSLMUC2IOUQ6k0wQA==",
          "dtype": "f8"
         },
         "legendgroup": "35",
         "lon": {
          "bdata": "UFsg7+n8LMAwapyPiTItwA==",
          "dtype": "f8"
         },
         "marker": {
          "color": "#636efa",
          "opacity": 0.7
         },
         "mode": "markers",
         "name": "35",
         "showlegend": true,
         "subplot": "mapbox",
         "type": "scattermapbox"
        },
        {
         "hovertemplate": "settlement_value=50<br>latitude=%{lat}<br>longitude=%{lon}<extra></extra>",
         "lat": {
          "bdata": "cfL10Ti5MEAnFMAVHkIxQJHlEpJHeDJA",
          "dtype": "f8"
         },
         "legendgroup": "50",
         "lon": {
          "bdata": "qR3AMUWLLcDwtygT7HYvwOOB0sAxIi7A",
          "dtype": "f8"
         },
         "marker": {
          "color": "#EF553B",
          "opacity": 0.7
         },
         "mode": "markers",
         "name": "50",
         "showlegend": true,
         "subplot": "mapbox",
         "type": "scattermapbox"
        },
        {
         "hovertemplate": "settlement_value=94<br>latitude=%{lat}<br>longitude=%{lon}<extra></extra>",
         "lat": {
          "bdata": "VsmqYY7GNUA=",
          "dtype": "f8"
         },
         "legendgroup": "94",
         "lon": {
          "bdata": "QnYYjuJsJsA=",
          "dtype": "f8"
         },
         "marker": {
          "color": "#00cc96",
          "opacity": 0.7
         },
         "mode": "markers",
         "name": "94",
         "showlegend": true,
         "subplot": "mapbox",
         "type": "scattermapbox"
        },
        {
         "hovertemplate": "settlement_value=270<br>latitude=%{lat}<br>longitude=%{lon}<extra></extra>",
         "lat": {
          "bdata": "t0mF0MzYMEA=",
          "dtype": "f8"
         },
         "legendgroup": "270",
         "lon": {
          "bdata": "P5bWzh9OLMA=",
          "dtype": "f8"
         },
         "marker": {
          "color": "#ab63fa",
          "opacity": 0.7
         },
         "mode": "markers",
         "name": "270",
         "showlegend": true,
         "subplot": "mapbox",
         "type": "scattermapbox"
        },
        {
         "hovertemplate": "settlement_value=3217<br>latitude=%{lat}<br>longitude=%{lon}<extra></extra>",
         "lat": {
          "bdata": "bzDBQtvtMEA=",
          "dtype": "f8"
         },
         "legendgroup": "3217",
         "lon": {
          "bdata": "0smK2xtILsA=",
          "dtype": "f8"
         },
         "marker": {
          "color": "#FFA15A",
          "opacity": 0.7
         },
         "mode": "markers",
         "name": "3217",
         "showlegend": true,
         "subplot": "mapbox",
         "type": "scattermapbox"
        },
        {
         "hovertemplate": "settlement_value=2027<br>latitude=%{lat}<br>longitude=%{lon}<extra></extra>",
         "lat": {
          "bdata": "ONgcP88CNUA=",
          "dtype": "f8"
         },
         "legendgroup": "2027",
         "lon": {
          "bdata": "NoAvuGAEMcA=",
          "dtype": "f8"
         },
         "marker": {
          "color": "#19d3f3",
          "opacity": 0.7
         },
         "mode": "markers",
         "name": "2027",
         "showlegend": true,
         "subplot": "mapbox",
         "type": "scattermapbox"
        },
        {
         "hovertemplate": "settlement_value=300858<br>latitude=%{lat}<br>longitude=%{lon}<extra></extra>",
         "lat": {
          "bdata": "P5iD8VsIMkA=",
          "dtype": "f8"
         },
         "legendgroup": "300858",
         "lon": {
          "bdata": "EAOd8/XlL8A=",
          "dtype": "f8"
         },
         "marker": {
          "color": "#FF6692",
          "opacity": 0.7
         },
         "mode": "markers",
         "name": "300858",
         "showlegend": true,
         "subplot": "mapbox",
         "type": "scattermapbox"
        },
        {
         "hovertemplate": "settlement_value=39770<br>latitude=%{lat}<br>longitude=%{lon}<extra></extra>",
         "lat": {
          "bdata": "ouBzs/JiMEA=",
          "dtype": "f8"
         },
         "legendgroup": "39770",
         "lon": {
          "bdata": "jGgdcvimLMA=",
          "dtype": "f8"
         },
         "marker": {
          "color": "#B6E880",
          "opacity": 0.7
         },
         "mode": "markers",
         "name": "39770",
         "showlegend": true,
         "subplot": "mapbox",
         "type": "scattermapbox"
        },
        {
         "hovertemplate": "settlement_value=93<br>latitude=%{lat}<br>longitude=%{lon}<extra></extra>",
         "lat": {
          "bdata": "+zUUIZk1N0A=",
          "dtype": "f8"
         },
         "legendgroup": "93",
         "lon": {
          "bdata": "FBfxo7UYLsA=",
          "dtype": "f8"
         },
         "marker": {
          "color": "#FF97FF",
          "opacity": 0.7
         },
         "mode": "markers",
         "name": "93",
         "showlegend": true,
         "subplot": "mapbox",
         "type": "scattermapbox"
        },
        {
         "hovertemplate": "settlement_value=91<br>latitude=%{lat}<br>longitude=%{lon}<extra></extra>",
         "lat": {
          "bdata": "CtxP/URsMUA=",
          "dtype": "f8"
         },
         "legendgroup": "91",
         "lon": {
          "bdata": "G0YTOxlhL8A=",
          "dtype": "f8"
         },
         "marker": {
          "color": "#FECB52",
          "opacity": 0.7
         },
         "mode": "markers",
         "name": "91",
         "showlegend": true,
         "subplot": "mapbox",
         "type": "scattermapbox"
        },
        {
         "hovertemplate": "settlement_value=36<br>latitude=%{lat}<br>longitude=%{lon}<extra></extra>",
         "lat": {
          "bdata": "jxnKQ7T+MEA=",
          "dtype": "f8"
         },
         "legendgroup": "36",
         "lon": {
          "bdata": "JRhbDcUGJ8A=",
          "dtype": "f8"
         },
         "marker": {
          "color": "#636efa",
          "opacity": 0.7
         },
         "mode": "markers",
         "name": "36",
         "showlegend": true,
         "subplot": "mapbox",
         "type": "scattermapbox"
        },
        {
         "hovertemplate": "settlement_value=127<br>latitude=%{lat}<br>longitude=%{lon}<extra></extra>",
         "lat": {
          "bdata": "0kQAX3GVMEA=",
          "dtype": "f8"
         },
         "legendgroup": "127",
         "lon": {
          "bdata": "xUgFoG8WL8A=",
          "dtype": "f8"
         },
         "marker": {
          "color": "#EF553B",
          "opacity": 0.7
         },
         "mode": "markers",
         "name": "127",
         "showlegend": true,
         "subplot": "mapbox",
         "type": "scattermapbox"
        },
        {
         "hovertemplate": "settlement_value=70208<br>latitude=%{lat}<br>longitude=%{lon}<extra></extra>",
         "lat": {
          "bdata": "I8X+LMDrMEA=",
          "dtype": "f8"
         },
         "legendgroup": "70208",
         "lon": {
          "bdata": "uXzVn2hOL8A=",
          "dtype": "f8"
         },
         "marker": {
          "color": "#00cc96",
          "opacity": 0.7
         },
         "mode": "markers",
         "name": "70208",
         "showlegend": true,
         "subplot": "mapbox",
         "type": "scattermapbox"
        },
        {
         "hovertemplate": "settlement_value=130<br>latitude=%{lat}<br>longitude=%{lon}<extra></extra>",
         "lat": {
          "bdata": "hjXTCBDKMEA=",
          "dtype": "f8"
         },
         "legendgroup": "130",
         "lon": {
          "bdata": "6x2UybobL8A=",
          "dtype": "f8"
         },
         "marker": {
          "color": "#ab63fa",
          "opacity": 0.7
         },
         "mode": "markers",
         "name": "130",
         "showlegend": true,
         "subplot": "mapbox",
         "type": "scattermapbox"
        },
        {
         "hovertemplate": "settlement_value=85926<br>latitude=%{lat}<br>longitude=%{lon}<extra></extra>",
         "lat": {
          "bdata": "yqzUMthgMEA=",
          "dtype": "f8"
         },
         "legendgroup": "85926",
         "lon": {
          "bdata": "SWlZI63nKMA=",
          "dtype": "f8"
         },
         "marker": {
          "color": "#FFA15A",
          "opacity": 0.7
         },
         "mode": "markers",
         "name": "85926",
         "showlegend": true,
         "subplot": "mapbox",
         "type": "scattermapbox"
        },
        {
         "hovertemplate": "settlement_value=129<br>latitude=%{lat}<br>longitude=%{lon}<extra></extra>",
         "lat": {
          "bdata": "azlRAmggMUA=",
          "dtype": "f8"
         },
         "legendgroup": "129",
         "lon": {
          "bdata": "e0SUnGMIKsA=",
          "dtype": "f8"
         },
         "marker": {
          "color": "#19d3f3",
          "opacity": 0.7
         },
         "mode": "markers",
         "name": "129",
         "showlegend": true,
         "subplot": "mapbox",
         "type": "scattermapbox"
        },
        {
         "hovertemplate": "settlement_value=22135<br>latitude=%{lat}<br>longitude=%{lon}<extra></extra>",
         "lat": {
          "bdata": "yizhQuiyMEA=",
          "dtype": "f8"
         },
         "legendgroup": "22135",
         "lon": {
          "bdata": "oPZU8toPMMA=",
          "dtype": "f8"
         },
         "marker": {
          "color": "#FF6692",
          "opacity": 0.7
         },
         "mode": "markers",
         "name": "22135",
         "showlegend": true,
         "subplot": "mapbox",
         "type": "scattermapbox"
        },
        {
         "hovertemplate": "settlement_value=223<br>latitude=%{lat}<br>longitude=%{lon}<extra></extra>",
         "lat": {
          "bdata": "1kXgyVOUMUA=",
          "dtype": "f8"
         },
         "legendgroup": "223",
         "lon": {
          "bdata": "rU6sFqbDKcA=",
          "dtype": "f8"
         },
         "marker": {
          "color": "#B6E880",
          "opacity": 0.7
         },
         "mode": "markers",
         "name": "223",
         "showlegend": true,
         "subplot": "mapbox",
         "type": "scattermapbox"
        },
        {
         "hovertemplate": "settlement_value=28<br>latitude=%{lat}<br>longitude=%{lon}<extra></extra>",
         "lat": {
          "bdata": "lZgtj8GbMEA=",
          "dtype": "f8"
         },
         "legendgroup": "28",
         "lon": {
          "bdata": "SCXHnJJiMMA=",
          "dtype": "f8"
         },
         "marker": {
          "color": "#FF97FF",
          "opacity": 0.7
         },
         "mode": "markers",
         "name": "28",
         "showlegend": true,
         "subplot": "mapbox",
         "type": "scattermapbox"
        },
        {
         "hovertemplate": "settlement_value=20<br>latitude=%{lat}<br>longitude=%{lon}<extra></extra>",
         "lat": {
          "bdata": "kCSQrzHmMkA=",
          "dtype": "f8"
         },
         "legendgroup": "20",
         "lon": {
          "bdata": "we/S59veJsA=",
          "dtype": "f8"
         },
         "marker": {
          "color": "#FECB52",
          "opacity": 0.7
         },
         "mode": "markers",
         "name": "20",
         "showlegend": true,
         "subplot": "mapbox",
         "type": "scattermapbox"
        },
        {
         "hovertemplate": "settlement_value=183<br>latitude=%{lat}<br>longitude=%{lon}<extra></extra>",
         "lat": {
          "bdata": "Qm/RFakRMUA=",
          "dtype": "f8"
         },
         "legendgroup": "183",
         "lon": {
          "bdata": "K2ZZHwFXJ8A=",
          "dtype": "f8"
         },
         "marker": {
          "color": "#636efa",
          "opacity": 0.7
         },
         "mode": "markers",
         "name": "183",
         "showlegend": true,
         "subplot": "mapbox",
         "type": "scattermapbox"
        },
        {
         "hovertemplate": "settlement_value=37390<br>latitude=%{lat}<br>longitude=%{lon}<extra></extra>",
         "lat": {
          "bdata": "ci6cYyJ9MUA=",
          "dtype": "f8"
         },
         "legendgroup": "37390",
         "lon": {
          "bdata": "eTSy0Q4wLcA=",
          "dtype": "f8"
         },
         "marker": {
          "color": "#EF553B",
          "opacity": 0.7
         },
         "mode": "markers",
         "name": "37390",
         "showlegend": true,
         "subplot": "mapbox",
         "type": "scattermapbox"
        },
        {
         "hovertemplate": "settlement_value=25<br>latitude=%{lat}<br>longitude=%{lon}<extra></extra>",
         "lat": {
          "bdata": "Ggo+lTOcMkA=",
          "dtype": "f8"
         },
         "legendgroup": "25",
         "lon": {
          "bdata": "F47L+G0GLsA=",
          "dtype": "f8"
         },
         "marker": {
          "color": "#00cc96",
          "opacity": 0.7
         },
         "mode": "markers",
         "name": "25",
         "showlegend": true,
         "subplot": "mapbox",
         "type": "scattermapbox"
        },
        {
         "hovertemplate": "settlement_value=95<br>latitude=%{lat}<br>longitude=%{lon}<extra></extra>",
         "lat": {
          "bdata": "f59czwAsM0A=",
          "dtype": "f8"
         },
         "legendgroup": "95",
         "lon": {
          "bdata": "jDBIAchlLsA=",
          "dtype": "f8"
         },
         "marker": {
          "color": "#ab63fa",
          "opacity": 0.7
         },
         "mode": "markers",
         "name": "95",
         "showlegend": true,
         "subplot": "mapbox",
         "type": "scattermapbox"
        },
        {
         "hovertemplate": "settlement_value=790<br>latitude=%{lat}<br>longitude=%{lon}<extra></extra>",
         "lat": {
          "bdata": "Qm/RFakRMUA=",
          "dtype": "f8"
         },
         "legendgroup": "790",
         "lon": {
          "bdata": "fXk3MEq9JcA=",
          "dtype": "f8"
         },
         "marker": {
          "color": "#FFA15A",
          "opacity": 0.7
         },
         "mode": "markers",
         "name": "790",
         "showlegend": true,
         "subplot": "mapbox",
         "type": "scattermapbox"
        },
        {
         "hovertemplate": "settlement_value=1234<br>latitude=%{lat}<br>longitude=%{lon}<extra></extra>",
         "lat": {
          "bdata": "mrtlps9LMEA=",
          "dtype": "f8"
         },
         "legendgroup": "1234",
         "lon": {
          "bdata": "NoBuhqoNLcA=",
          "dtype": "f8"
         },
         "marker": {
          "color": "#19d3f3",
          "opacity": 0.7
         },
         "mode": "markers",
         "name": "1234",
         "showlegend": true,
         "subplot": "mapbox",
         "type": "scattermapbox"
        },
        {
         "hovertemplate": "settlement_value=1066<br>latitude=%{lat}<br>longitude=%{lon}<extra></extra>",
         "lat": {
          "bdata": "cKgXrSnTMkA=",
          "dtype": "f8"
         },
         "legendgroup": "1066",
         "lon": {
          "bdata": "tIeAtLrvLsA=",
          "dtype": "f8"
         },
         "marker": {
          "color": "#FF6692",
          "opacity": 0.7
         },
         "mode": "markers",
         "name": "1066",
         "showlegend": true,
         "subplot": "mapbox",
         "type": "scattermapbox"
        },
        {
         "hovertemplate": "settlement_value=162<br>latitude=%{lat}<br>longitude=%{lon}<extra></extra>",
         "lat": {
          "bdata": "gDGFLzwJMUA=",
          "dtype": "f8"
         },
         "legendgroup": "162",
         "lon": {
          "bdata": "DxkuZoC7KMA=",
          "dtype": "f8"
         },
         "marker": {
          "color": "#B6E880",
          "opacity": 0.7
         },
         "mode": "markers",
         "name": "162",
         "showlegend": true,
         "subplot": "mapbox",
         "type": "scattermapbox"
        },
        {
         "hovertemplate": "settlement_value=372<br>latitude=%{lat}<br>longitude=%{lon}<extra></extra>",
         "lat": {
          "bdata": "I8X+LMDrMEA=",
          "dtype": "f8"
         },
         "legendgroup": "372",
         "lon": {
          "bdata": "5i2N0GhjL8A=",
          "dtype": "f8"
         },
         "marker": {
          "color": "#FF97FF",
          "opacity": 0.7
         },
         "mode": "markers",
         "name": "372",
         "showlegend": true,
         "subplot": "mapbox",
         "type": "scattermapbox"
        },
        {
         "hovertemplate": "settlement_value=310<br>latitude=%{lat}<br>longitude=%{lon}<extra></extra>",
         "lat": {
          "bdata": "wgd7rgZ7MUA=",
          "dtype": "f8"
         },
         "legendgroup": "310",
         "lon": {
          "bdata": "WjkG8qA/LcA=",
          "dtype": "f8"
         },
         "marker": {
          "color": "#FECB52",
          "opacity": 0.7
         },
         "mode": "markers",
         "name": "310",
         "showlegend": true,
         "subplot": "mapbox",
         "type": "scattermapbox"
        },
        {
         "hovertemplate": "settlement_value=157<br>latitude=%{lat}<br>longitude=%{lon}<extra></extra>",
         "lat": {
          "bdata": "/XZY4lSeM0A=",
          "dtype": "f8"
         },
         "legendgroup": "157",
         "lon": {
          "bdata": "dnGPoCUVLcA=",
          "dtype": "f8"
         },
         "marker": {
          "color": "#636efa",
          "opacity": 0.7
         },
         "mode": "markers",
         "name": "157",
         "showlegend": true,
         "subplot": "mapbox",
         "type": "scattermapbox"
        },
        {
         "hovertemplate": "settlement_value=159684<br>latitude=%{lat}<br>longitude=%{lon}<extra></extra>",
         "lat": {
          "bdata": "y3+fqur/MUA=",
          "dtype": "f8"
         },
         "legendgroup": "159684",
         "lon": {
          "bdata": "qb7G30jqL8A=",
          "dtype": "f8"
         },
         "marker": {
          "color": "#EF553B",
          "opacity": 0.7
         },
         "mode": "markers",
         "name": "159684",
         "showlegend": true,
         "subplot": "mapbox",
         "type": "scattermapbox"
        },
        {
         "hovertemplate": "settlement_value=276<br>latitude=%{lat}<br>longitude=%{lon}<extra></extra>",
         "lat": {
          "bdata": "Q7FqMLE0MkA=",
          "dtype": "f8"
         },
         "legendgroup": "276",
         "lon": {
          "bdata": "nz2v54oALsA=",
          "dtype": "f8"
         },
         "marker": {
          "color": "#00cc96",
          "opacity": 0.7
         },
         "mode": "markers",
         "name": "276",
         "showlegend": true,
         "subplot": "mapbox",
         "type": "scattermapbox"
        },
        {
         "hovertemplate": "settlement_value=669<br>latitude=%{lat}<br>longitude=%{lon}<extra></extra>",
         "lat": {
          "bdata": "2/hauydnMEA=",
          "dtype": "f8"
         },
         "legendgroup": "669",
         "lon": {
          "bdata": "n9LdHy/YLsA=",
          "dtype": "f8"
         },
         "marker": {
          "color": "#ab63fa",
          "opacity": 0.7
         },
         "mode": "markers",
         "name": "669",
         "showlegend": true,
         "subplot": "mapbox",
         "type": "scattermapbox"
        },
        {
         "hovertemplate": "settlement_value=190<br>latitude=%{lat}<br>longitude=%{lon}<extra></extra>",
         "lat": {
          "bdata": "GEbVLb6vMUA=",
          "dtype": "f8"
         },
         "legendgroup": "190",
         "lon": {
          "bdata": "GUMYJ4bzKMA=",
          "dtype": "f8"
         },
         "marker": {
          "color": "#FFA15A",
          "opacity": 0.7
         },
         "mode": "markers",
         "name": "190",
         "showlegend": true,
         "subplot": "mapbox",
         "type": "scattermapbox"
        },
        {
         "hovertemplate": "settlement_value=2107<br>latitude=%{lat}<br>longitude=%{lon}<extra></extra>",
         "lat": {
          "bdata": "ol0yyJesMEA=",
          "dtype": "f8"
         },
         "legendgroup": "2107",
         "lon": {
          "bdata": "1iolDRLgJcA=",
          "dtype": "f8"
         },
         "marker": {
          "color": "#19d3f3",
          "opacity": 0.7
         },
         "mode": "markers",
         "name": "2107",
         "showlegend": true,
         "subplot": "mapbox",
         "type": "scattermapbox"
        },
        {
         "hovertemplate": "settlement_value=2468<br>latitude=%{lat}<br>longitude=%{lon}<extra></extra>",
         "lat": {
          "bdata": "T1EXvHE/NEA=",
          "dtype": "f8"
         },
         "legendgroup": "2468",
         "lon": {
          "bdata": "zzybeBwFKsA=",
          "dtype": "f8"
         },
         "marker": {
          "color": "#FF6692",
          "opacity": 0.7
         },
         "mode": "markers",
         "name": "2468",
         "showlegend": true,
         "subplot": "mapbox",
         "type": "scattermapbox"
        },
        {
         "hovertemplate": "settlement_value=11203<br>latitude=%{lat}<br>longitude=%{lon}<extra></extra>",
         "lat": {
          "bdata": "ASrNBkVnM0A=",
          "dtype": "f8"
         },
         "legendgroup": "11203",
         "lon": {
          "bdata": "EwHViO7LLsA=",
          "dtype": "f8"
         },
         "marker": {
          "color": "#B6E880",
          "opacity": 0.7
         },
         "mode": "markers",
         "name": "11203",
         "showlegend": true,
         "subplot": "mapbox",
         "type": "scattermapbox"
        },
        {
         "hovertemplate": "settlement_value=676<br>latitude=%{lat}<br>longitude=%{lon}<extra></extra>",
         "lat": {
          "bdata": "t0mF0MzYMEA=",
          "dtype": "f8"
         },
         "legendgroup": "676",
         "lon": {
          "bdata": "pj8hwHfTJcA=",
          "dtype": "f8"
         },
         "marker": {
          "color": "#FF97FF",
          "opacity": 0.7
         },
         "mode": "markers",
         "name": "676",
         "showlegend": true,
         "subplot": "mapbox",
         "type": "scattermapbox"
        },
        {
         "hovertemplate": "settlement_value=7119<br>latitude=%{lat}<br>longitude=%{lon}<extra></extra>",
         "lat": {
          "bdata": "hAZ/SV31MUA=",
          "dtype": "f8"
         },
         "legendgroup": "7119",
         "lon": {
          "bdata": "8RB/9HnxLsA=",
          "dtype": "f8"
         },
         "marker": {
          "color": "#FECB52",
          "opacity": 0.7
         },
         "mode": "markers",
         "name": "7119",
         "showlegend": true,
         "subplot": "mapbox",
         "type": "scattermapbox"
        },
        {
         "hovertemplate": "settlement_value=8<br>latitude=%{lat}<br>longitude=%{lon}<extra></extra>",
         "lat": {
          "bdata": "E3PzsqclM0A=",
          "dtype": "f8"
         },
         "legendgroup": "8",
         "lon": {
          "bdata": "2dM98vDYKcA=",
          "dtype": "f8"
         },
         "marker": {
          "color": "#636efa",
          "opacity": 0.7
         },
         "mode": "markers",
         "name": "8",
         "showlegend": true,
         "subplot": "mapbox",
         "type": "scattermapbox"
        },
        {
         "hovertemplate": "settlement_value=862<br>latitude=%{lat}<br>longitude=%{lon}<extra></extra>",
         "lat": {
          "bdata": "y4oE2JpHMEA=",
          "dtype": "f8"
         },
         "legendgroup": "862",
         "lon": {
          "bdata": "NyU2OrIjL8A=",
          "dtype": "f8"
         },
         "marker": {
          "color": "#EF553B",
          "opacity": 0.7
         },
         "mode": "markers",
         "name": "862",
         "showlegend": true,
         "subplot": "mapbox",
         "type": "scattermapbox"
        },
        {
         "hovertemplate": "settlement_value=21172<br>latitude=%{lat}<br>longitude=%{lon}<extra></extra>",
         "lat": {
          "bdata": "Fie+pWaAMEA=",
          "dtype": "f8"
         },
         "legendgroup": "21172",
         "lon": {
          "bdata": "emqJcfoxLcA=",
          "dtype": "f8"
         },
         "marker": {
          "color": "#00cc96",
          "opacity": 0.7
         },
         "mode": "markers",
         "name": "21172",
         "showlegend": true,
         "subplot": "mapbox",
         "type": "scattermapbox"
        },
        {
         "hovertemplate": "settlement_value=148<br>latitude=%{lat}<br>longitude=%{lon}<extra></extra>",
         "lat": {
          "bdata": "zvNPtYqiMkA=",
          "dtype": "f8"
         },
         "legendgroup": "148",
         "lon": {
          "bdata": "Mgmq8skQKMA=",
          "dtype": "f8"
         },
         "marker": {
          "color": "#ab63fa",
          "opacity": 0.7
         },
         "mode": "markers",
         "name": "148",
         "showlegend": true,
         "subplot": "mapbox",
         "type": "scattermapbox"
        },
        {
         "hovertemplate": "settlement_value=2566<br>latitude=%{lat}<br>longitude=%{lon}<extra></extra>",
         "lat": {
          "bdata": "WeJzLdrFMEA=",
          "dtype": "f8"
         },
         "legendgroup": "2566",
         "lon": {
          "bdata": "tumBLjhOKcA=",
          "dtype": "f8"
         },
         "marker": {
          "color": "#FFA15A",
          "opacity": 0.7
         },
         "mode": "markers",
         "name": "2566",
         "showlegend": true,
         "subplot": "mapbox",
         "type": "scattermapbox"
        },
        {
         "hovertemplate": "settlement_value=4599<br>latitude=%{lat}<br>longitude=%{lon}<extra></extra>",
         "lat": {
          "bdata": "g7cQQyGPMEA=",
          "dtype": "f8"
         },
         "legendgroup": "4599",
         "lon": {
          "bdata": "AAjyEoIbKsA=",
          "dtype": "f8"
         },
         "marker": {
          "color": "#19d3f3",
          "opacity": 0.7
         },
         "mode": "markers",
         "name": "4599",
         "showlegend": true,
         "subplot": "mapbox",
         "type": "scattermapbox"
        },
        {
         "hovertemplate": "settlement_value=359<br>latitude=%{lat}<br>longitude=%{lon}<extra></extra>",
         "lat": {
          "bdata": "7WZW5tMcOEA=",
          "dtype": "f8"
         },
         "legendgroup": "359",
         "lon": {
          "bdata": "0EOy9HOdKsA=",
          "dtype": "f8"
         },
         "marker": {
          "color": "#FF6692",
          "opacity": 0.7
         },
         "mode": "markers",
         "name": "359",
         "showlegend": true,
         "subplot": "mapbox",
         "type": "scattermapbox"
        },
        {
         "hovertemplate": "settlement_value=165<br>latitude=%{lat}<br>longitude=%{lon}<extra></extra>",
         "lat": {
          "bdata": "lXG9A1eUNEA=",
          "dtype": "f8"
         },
         "legendgroup": "165",
         "lon": {
          "bdata": "PZFdm/YdKsA=",
          "dtype": "f8"
         },
         "marker": {
          "color": "#B6E880",
          "opacity": 0.7
         },
         "mode": "markers",
         "name": "165",
         "showlegend": true,
         "subplot": "mapbox",
         "type": "scattermapbox"
        },
        {
         "hovertemplate": "settlement_value=36980<br>latitude=%{lat}<br>longitude=%{lon}<extra></extra>",
         "lat": {
          "bdata": "IwPM9DuRMEA=",
          "dtype": "f8"
         },
         "legendgroup": "36980",
         "lon": {
          "bdata": "y5eC3vuQLMA=",
          "dtype": "f8"
         },
         "marker": {
          "color": "#FF97FF",
          "opacity": 0.7
         },
         "mode": "markers",
         "name": "36980",
         "showlegend": true,
         "subplot": "mapbox",
         "type": "scattermapbox"
        },
        {
         "hovertemplate": "settlement_value=86721<br>latitude=%{lat}<br>longitude=%{lon}<extra></extra>",
         "lat": {
          "bdata": "Z2idZVcLMUA=",
          "dtype": "f8"
         },
         "legendgroup": "86721",
         "lon": {
          "bdata": "bgzwq4XPK8A=",
          "dtype": "f8"
         },
         "marker": {
          "color": "#FECB52",
          "opacity": 0.7
         },
         "mode": "markers",
         "name": "86721",
         "showlegend": true,
         "subplot": "mapbox",
         "type": "scattermapbox"
        },
        {
         "hovertemplate": "settlement_value=43386<br>latitude=%{lat}<br>longitude=%{lon}<extra></extra>",
         "lat": {
          "bdata": "1Mn4GgO1MEA=",
          "dtype": "f8"
         },
         "legendgroup": "43386",
         "lon": {
          "bdata": "NSz6QnUbJ8A=",
          "dtype": "f8"
         },
         "marker": {
          "color": "#636efa",
          "opacity": 0.7
         },
         "mode": "markers",
         "name": "43386",
         "showlegend": true,
         "subplot": "mapbox",
         "type": "scattermapbox"
        },
        {
         "hovertemplate": "settlement_value=32<br>latitude=%{lat}<br>longitude=%{lon}<extra></extra>",
         "lat": {
          "bdata": "X7VO+WW8MUA=",
          "dtype": "f8"
         },
         "legendgroup": "32",
         "lon": {
          "bdata": "uv687bJtKcA=",
          "dtype": "f8"
         },
         "marker": {
          "color": "#EF553B",
          "opacity": 0.7
         },
         "mode": "markers",
         "name": "32",
         "showlegend": true,
         "subplot": "mapbox",
         "type": "scattermapbox"
        },
        {
         "hovertemplate": "settlement_value=21877<br>latitude=%{lat}<br>longitude=%{lon}<extra></extra>",
         "lat": {
          "bdata": "W4kz0qaZMEA=",
          "dtype": "f8"
         },
         "legendgroup": "21877",
         "lon": {
          "bdata": "29BJVy3JL8A=",
          "dtype": "f8"
         },
         "marker": {
          "color": "#00cc96",
          "opacity": 0.7
         },
         "mode": "markers",
         "name": "21877",
         "showlegend": true,
         "subplot": "mapbox",
         "type": "scattermapbox"
        },
        {
         "hovertemplate": "settlement_value=74<br>latitude=%{lat}<br>longitude=%{lon}<extra></extra>",
         "lat": {
          "bdata": "/l2MNXkuNEA=",
          "dtype": "f8"
         },
         "legendgroup": "74",
         "lon": {
          "bdata": "YiwqXOApLsA=",
          "dtype": "f8"
         },
         "marker": {
          "color": "#ab63fa",
          "opacity": 0.7
         },
         "mode": "markers",
         "name": "74",
         "showlegend": true,
         "subplot": "mapbox",
         "type": "scattermapbox"
        },
        {
         "hovertemplate": "settlement_value=248<br>latitude=%{lat}<br>longitude=%{lon}<extra></extra>",
         "lat": {
          "bdata": "hjXTCBDKMEA=",
          "dtype": "f8"
         },
         "legendgroup": "248",
         "lon": {
          "bdata": "Ku2WTM5oKcA=",
          "dtype": "f8"
         },
         "marker": {
          "color": "#FFA15A",
          "opacity": 0.7
         },
         "mode": "markers",
         "name": "248",
         "showlegend": true,
         "subplot": "mapbox",
         "type": "scattermapbox"
        },
        {
         "hovertemplate": "settlement_value=185<br>latitude=%{lat}<br>longitude=%{lon}<extra></extra>",
         "lat": {
          "bdata": "mAb8DKa3NUA=",
          "dtype": "f8"
         },
         "legendgroup": "185",
         "lon": {
          "bdata": "PJdTfk1BJ8A=",
          "dtype": "f8"
         },
         "marker": {
          "color": "#19d3f3",
          "opacity": 0.7
         },
         "mode": "markers",
         "name": "185",
         "showlegend": true,
         "subplot": "mapbox",
         "type": "scattermapbox"
        }
       ],
       "layout": {
        "height": 700,
        "legend": {
         "title": {
          "text": "settlement_value"
         },
         "tracegroupgap": 0
        },
        "mapbox": {
         "center": {
          "lat": 20.088143464228377,
          "lon": -16.57967133137088
         },
         "domain": {
          "x": [
           0,
           1
          ],
          "y": [
           0,
           1
          ]
         },
         "style": "carto-positron",
         "zoom": 10
        },
        "margin": {
         "b": 0,
         "l": 0,
         "r": 0,
         "t": 30
        },
        "template": {
         "data": {
          "bar": [
           {
            "error_x": {
             "color": "#2a3f5f"
            },
            "error_y": {
             "color": "#2a3f5f"
            },
            "marker": {
             "line": {
              "color": "#E5ECF6",
              "width": 0.5
             },
             "pattern": {
              "fillmode": "overlay",
              "size": 10,
              "solidity": 0.2
             }
            },
            "type": "bar"
           }
          ],
          "barpolar": [
           {
            "marker": {
             "line": {
              "color": "#E5ECF6",
              "width": 0.5
             },
             "pattern": {
              "fillmode": "overlay",
              "size": 10,
              "solidity": 0.2
             }
            },
            "type": "barpolar"
           }
          ],
          "carpet": [
           {
            "aaxis": {
             "endlinecolor": "#2a3f5f",
             "gridcolor": "white",
             "linecolor": "white",
             "minorgridcolor": "white",
             "startlinecolor": "#2a3f5f"
            },
            "baxis": {
             "endlinecolor": "#2a3f5f",
             "gridcolor": "white",
             "linecolor": "white",
             "minorgridcolor": "white",
             "startlinecolor": "#2a3f5f"
            },
            "type": "carpet"
           }
          ],
          "choropleth": [
           {
            "colorbar": {
             "outlinewidth": 0,
             "ticks": ""
            },
            "type": "choropleth"
           }
          ],
          "contour": [
           {
            "colorbar": {
             "outlinewidth": 0,
             "ticks": ""
            },
            "colorscale": [
             [
              0,
              "#0d0887"
             ],
             [
              0.1111111111111111,
              "#46039f"
             ],
             [
              0.2222222222222222,
              "#7201a8"
             ],
             [
              0.3333333333333333,
              "#9c179e"
             ],
             [
              0.4444444444444444,
              "#bd3786"
             ],
             [
              0.5555555555555556,
              "#d8576b"
             ],
             [
              0.6666666666666666,
              "#ed7953"
             ],
             [
              0.7777777777777778,
              "#fb9f3a"
             ],
             [
              0.8888888888888888,
              "#fdca26"
             ],
             [
              1,
              "#f0f921"
             ]
            ],
            "type": "contour"
           }
          ],
          "contourcarpet": [
           {
            "colorbar": {
             "outlinewidth": 0,
             "ticks": ""
            },
            "type": "contourcarpet"
           }
          ],
          "heatmap": [
           {
            "colorbar": {
             "outlinewidth": 0,
             "ticks": ""
            },
            "colorscale": [
             [
              0,
              "#0d0887"
             ],
             [
              0.1111111111111111,
              "#46039f"
             ],
             [
              0.2222222222222222,
              "#7201a8"
             ],
             [
              0.3333333333333333,
              "#9c179e"
             ],
             [
              0.4444444444444444,
              "#bd3786"
             ],
             [
              0.5555555555555556,
              "#d8576b"
             ],
             [
              0.6666666666666666,
              "#ed7953"
             ],
             [
              0.7777777777777778,
              "#fb9f3a"
             ],
             [
              0.8888888888888888,
              "#fdca26"
             ],
             [
              1,
              "#f0f921"
             ]
            ],
            "type": "heatmap"
           }
          ],
          "histogram": [
           {
            "marker": {
             "pattern": {
              "fillmode": "overlay",
              "size": 10,
              "solidity": 0.2
             }
            },
            "type": "histogram"
           }
          ],
          "histogram2d": [
           {
            "colorbar": {
             "outlinewidth": 0,
             "ticks": ""
            },
            "colorscale": [
             [
              0,
              "#0d0887"
             ],
             [
              0.1111111111111111,
              "#46039f"
             ],
             [
              0.2222222222222222,
              "#7201a8"
             ],
             [
              0.3333333333333333,
              "#9c179e"
             ],
             [
              0.4444444444444444,
              "#bd3786"
             ],
             [
              0.5555555555555556,
              "#d8576b"
             ],
             [
              0.6666666666666666,
              "#ed7953"
             ],
             [
              0.7777777777777778,
              "#fb9f3a"
             ],
             [
              0.8888888888888888,
              "#fdca26"
             ],
             [
              1,
              "#f0f921"
             ]
            ],
            "type": "histogram2d"
           }
          ],
          "histogram2dcontour": [
           {
            "colorbar": {
             "outlinewidth": 0,
             "ticks": ""
            },
            "colorscale": [
             [
              0,
              "#0d0887"
             ],
             [
              0.1111111111111111,
              "#46039f"
             ],
             [
              0.2222222222222222,
              "#7201a8"
             ],
             [
              0.3333333333333333,
              "#9c179e"
             ],
             [
              0.4444444444444444,
              "#bd3786"
             ],
             [
              0.5555555555555556,
              "#d8576b"
             ],
             [
              0.6666666666666666,
              "#ed7953"
             ],
             [
              0.7777777777777778,
              "#fb9f3a"
             ],
             [
              0.8888888888888888,
              "#fdca26"
             ],
             [
              1,
              "#f0f921"
             ]
            ],
            "type": "histogram2dcontour"
           }
          ],
          "mesh3d": [
           {
            "colorbar": {
             "outlinewidth": 0,
             "ticks": ""
            },
            "type": "mesh3d"
           }
          ],
          "parcoords": [
           {
            "line": {
             "colorbar": {
              "outlinewidth": 0,
              "ticks": ""
             }
            },
            "type": "parcoords"
           }
          ],
          "pie": [
           {
            "automargin": true,
            "type": "pie"
           }
          ],
          "scatter": [
           {
            "fillpattern": {
             "fillmode": "overlay",
             "size": 10,
             "solidity": 0.2
            },
            "type": "scatter"
           }
          ],
          "scatter3d": [
           {
            "line": {
             "colorbar": {
              "outlinewidth": 0,
              "ticks": ""
             }
            },
            "marker": {
             "colorbar": {
              "outlinewidth": 0,
              "ticks": ""
             }
            },
            "type": "scatter3d"
           }
          ],
          "scattercarpet": [
           {
            "marker": {
             "colorbar": {
              "outlinewidth": 0,
              "ticks": ""
             }
            },
            "type": "scattercarpet"
           }
          ],
          "scattergeo": [
           {
            "marker": {
             "colorbar": {
              "outlinewidth": 0,
              "ticks": ""
             }
            },
            "type": "scattergeo"
           }
          ],
          "scattergl": [
           {
            "marker": {
             "colorbar": {
              "outlinewidth": 0,
              "ticks": ""
             }
            },
            "type": "scattergl"
           }
          ],
          "scattermap": [
           {
            "marker": {
             "colorbar": {
              "outlinewidth": 0,
              "ticks": ""
             }
            },
            "type": "scattermap"
           }
          ],
          "scattermapbox": [
           {
            "marker": {
             "colorbar": {
              "outlinewidth": 0,
              "ticks": ""
             }
            },
            "type": "scattermapbox"
           }
          ],
          "scatterpolar": [
           {
            "marker": {
             "colorbar": {
              "outlinewidth": 0,
              "ticks": ""
             }
            },
            "type": "scatterpolar"
           }
          ],
          "scatterpolargl": [
           {
            "marker": {
             "colorbar": {
              "outlinewidth": 0,
              "ticks": ""
             }
            },
            "type": "scatterpolargl"
           }
          ],
          "scatterternary": [
           {
            "marker": {
             "colorbar": {
              "outlinewidth": 0,
              "ticks": ""
             }
            },
            "type": "scatterternary"
           }
          ],
          "surface": [
           {
            "colorbar": {
             "outlinewidth": 0,
             "ticks": ""
            },
            "colorscale": [
             [
              0,
              "#0d0887"
             ],
             [
              0.1111111111111111,
              "#46039f"
             ],
             [
              0.2222222222222222,
              "#7201a8"
             ],
             [
              0.3333333333333333,
              "#9c179e"
             ],
             [
              0.4444444444444444,
              "#bd3786"
             ],
             [
              0.5555555555555556,
              "#d8576b"
             ],
             [
              0.6666666666666666,
              "#ed7953"
             ],
             [
              0.7777777777777778,
              "#fb9f3a"
             ],
             [
              0.8888888888888888,
              "#fdca26"
             ],
             [
              1,
              "#f0f921"
             ]
            ],
            "type": "surface"
           }
          ],
          "table": [
           {
            "cells": {
             "fill": {
              "color": "#EBF0F8"
             },
             "line": {
              "color": "white"
             }
            },
            "header": {
             "fill": {
              "color": "#C8D4E3"
             },
             "line": {
              "color": "white"
             }
            },
            "type": "table"
           }
          ]
         },
         "layout": {
          "annotationdefaults": {
           "arrowcolor": "#2a3f5f",
           "arrowhead": 0,
           "arrowwidth": 1
          },
          "autotypenumbers": "strict",
          "coloraxis": {
           "colorbar": {
            "outlinewidth": 0,
            "ticks": ""
           }
          },
          "colorscale": {
           "diverging": [
            [
             0,
             "#8e0152"
            ],
            [
             0.1,
             "#c51b7d"
            ],
            [
             0.2,
             "#de77ae"
            ],
            [
             0.3,
             "#f1b6da"
            ],
            [
             0.4,
             "#fde0ef"
            ],
            [
             0.5,
             "#f7f7f7"
            ],
            [
             0.6,
             "#e6f5d0"
            ],
            [
             0.7,
             "#b8e186"
            ],
            [
             0.8,
             "#7fbc41"
            ],
            [
             0.9,
             "#4d9221"
            ],
            [
             1,
             "#276419"
            ]
           ],
           "sequential": [
            [
             0,
             "#0d0887"
            ],
            [
             0.1111111111111111,
             "#46039f"
            ],
            [
             0.2222222222222222,
             "#7201a8"
            ],
            [
             0.3333333333333333,
             "#9c179e"
            ],
            [
             0.4444444444444444,
             "#bd3786"
            ],
            [
             0.5555555555555556,
             "#d8576b"
            ],
            [
             0.6666666666666666,
             "#ed7953"
            ],
            [
             0.7777777777777778,
             "#fb9f3a"
            ],
            [
             0.8888888888888888,
             "#fdca26"
            ],
            [
             1,
             "#f0f921"
            ]
           ],
           "sequentialminus": [
            [
             0,
             "#0d0887"
            ],
            [
             0.1111111111111111,
             "#46039f"
            ],
            [
             0.2222222222222222,
             "#7201a8"
            ],
            [
             0.3333333333333333,
             "#9c179e"
            ],
            [
             0.4444444444444444,
             "#bd3786"
            ],
            [
             0.5555555555555556,
             "#d8576b"
            ],
            [
             0.6666666666666666,
             "#ed7953"
            ],
            [
             0.7777777777777778,
             "#fb9f3a"
            ],
            [
             0.8888888888888888,
             "#fdca26"
            ],
            [
             1,
             "#f0f921"
            ]
           ]
          },
          "colorway": [
           "#636efa",
           "#EF553B",
           "#00cc96",
           "#ab63fa",
           "#FFA15A",
           "#19d3f3",
           "#FF6692",
           "#B6E880",
           "#FF97FF",
           "#FECB52"
          ],
          "font": {
           "color": "#2a3f5f"
          },
          "geo": {
           "bgcolor": "white",
           "lakecolor": "white",
           "landcolor": "#E5ECF6",
           "showlakes": true,
           "showland": true,
           "subunitcolor": "white"
          },
          "hoverlabel": {
           "align": "left"
          },
          "hovermode": "closest",
          "mapbox": {
           "style": "light"
          },
          "paper_bgcolor": "white",
          "plot_bgcolor": "#E5ECF6",
          "polar": {
           "angularaxis": {
            "gridcolor": "white",
            "linecolor": "white",
            "ticks": ""
           },
           "bgcolor": "#E5ECF6",
           "radialaxis": {
            "gridcolor": "white",
            "linecolor": "white",
            "ticks": ""
           }
          },
          "scene": {
           "xaxis": {
            "backgroundcolor": "#E5ECF6",
            "gridcolor": "white",
            "gridwidth": 2,
            "linecolor": "white",
            "showbackground": true,
            "ticks": "",
            "zerolinecolor": "white"
           },
           "yaxis": {
            "backgroundcolor": "#E5ECF6",
            "gridcolor": "white",
            "gridwidth": 2,
            "linecolor": "white",
            "showbackground": true,
            "ticks": "",
            "zerolinecolor": "white"
           },
           "zaxis": {
            "backgroundcolor": "#E5ECF6",
            "gridcolor": "white",
            "gridwidth": 2,
            "linecolor": "white",
            "showbackground": true,
            "ticks": "",
            "zerolinecolor": "white"
           }
          },
          "shapedefaults": {
           "line": {
            "color": "#2a3f5f"
           }
          },
          "ternary": {
           "aaxis": {
            "gridcolor": "white",
            "linecolor": "white",
            "ticks": ""
           },
           "baxis": {
            "gridcolor": "white",
            "linecolor": "white",
            "ticks": ""
           },
           "bgcolor": "#E5ECF6",
           "caxis": {
            "gridcolor": "white",
            "linecolor": "white",
            "ticks": ""
           }
          },
          "title": {
           "x": 0.05
          },
          "xaxis": {
           "automargin": true,
           "gridcolor": "white",
           "linecolor": "white",
           "ticks": "",
           "title": {
            "standoff": 15
           },
           "zerolinecolor": "white",
           "zerolinewidth": 2
          },
          "yaxis": {
           "automargin": true,
           "gridcolor": "white",
           "linecolor": "white",
           "ticks": "",
           "title": {
            "standoff": 15
           },
           "zerolinecolor": "white",
           "zerolinewidth": 2
          }
         }
        },
        "title": {
         "text": "Settlement Pixel Centers (> 0)\nhumansettle_data/GHS_BUILT_S_E2020_GLOBE_R2023A_54009_1000_V1_0_R7_C17.tif"
        }
       }
      }
     },
     "metadata": {},
     "output_type": "display_data"
    },
    {
     "name": "stdout",
     "output_type": "stream",
     "text": [
      "Plot display attempted.\n"
     ]
    }
   ],
   "source": [
    "import rasterio\n",
    "import rasterio.transform\n",
    "import plotly.express as px\n",
    "from pyproj import Transformer\n",
    "import numpy as np\n",
    "import pandas as pd\n",
    "import plotly.io as pio\n",
    "import traceback \n",
    "\n",
    "# --- Parameters ---\n",
    "value_threshold = 0 # Only plot pixels with value strictly greater than this\n",
    "max_points_to_plot = 1000 # Limit the number of points for performance\n",
    "\n",
    "try:\n",
    "    with rasterio.open(tif_file_path) as src:\n",
    "        print(f\"Reading raster: {tif_file_path}\")\n",
    "        # CORRECTED PRINT STATEMENT: Use src.dtypes[0]\n",
    "        print(f\"CRS: {src.crs}, Shape: {src.shape}, Dtype: {src.dtypes[0]}\")\n",
    "\n",
    "        # 1. Read Raster Data (read band 1)\n",
    "        data = src.read(1)\n",
    "        print(f\"NoData value: {src.nodata}\")\n",
    "        print(f\"Data min: {np.min(data)}, max: {np.max(data)}, mean: {np.mean(data)}\")\n",
    "        transform = src.transform\n",
    "        native_crs = src.crs\n",
    "\n",
    "        # 2. Identify Relevant Pixels\n",
    "        # Find indices (row, col) where data > threshold\n",
    "        rows, cols = np.where(data > value_threshold)\n",
    "        values = data[rows, cols]\n",
    "        num_found = len(rows)\n",
    "        print(f\"Found {num_found} pixels with value > {value_threshold}\")\n",
    "\n",
    "        if num_found == 0:\n",
    "            print(\"No relevant pixels found based on threshold. Exiting.\")\n",
    "            exit()\n",
    "\n",
    "        # Optional: Sample if too many points found\n",
    "        if num_found > max_points_to_plot:\n",
    "            print(f\"Sampling down to {max_points_to_plot} points...\")\n",
    "            indices = np.arange(num_found)\n",
    "            sampled_indices = np.random.choice(indices, max_points_to_plot, replace=False)\n",
    "            rows = rows[sampled_indices]\n",
    "            cols = cols[sampled_indices]\n",
    "            values = values[sampled_indices]\n",
    "\n",
    "        # 3. Calculate Center Coordinates (Native CRS)\n",
    "        # Use transform.xy() which applies the affine transform correctly\n",
    "        # It takes row, col indices - provide center offset (0.5)\n",
    "        xs, ys = transform * (cols + 0.5, rows + 0.5) # Get native X, Y coords\n",
    "\n",
    "        # 4. Transform to Lat/Lon (WGS84)\n",
    "        wgs84_crs = \"EPSG:4326\"\n",
    "        transformer = Transformer.from_crs(str(native_crs), wgs84_crs, always_xy=True)\n",
    "        lons, lats = transformer.transform(xs, ys)\n",
    "\n",
    "        # 5. Create DataFrame\n",
    "        df_plot = pd.DataFrame({\n",
    "            'latitude': lats,\n",
    "            'longitude': lons,\n",
    "            'settlement_value': values\n",
    "        })\n",
    "        print(f\"Created DataFrame with {len(df_plot)} points for plotting.\")\n",
    "        # print(df_plot.head()) # Optional: Inspect the data\n",
    "\n",
    "        # 6. Plot with Plotly Express\n",
    "        print(\"Creating Plotly map...\")\n",
    "        fig = px.scatter_mapbox(df_plot,\n",
    "                                lat=\"latitude\",\n",
    "                                lon=\"longitude\",\n",
    "                                color=\"settlement_value\", # Color points by settlement value\n",
    "                                size_max=5,          # Adjust marker size if needed (can remove if not needed)\n",
    "                                opacity=0.7,\n",
    "                                # range_color=[values.min(), values.max()], # Set color range if desired\n",
    "                                color_continuous_scale=px.colors.sequential.Viridis, # Choose a colorscale\n",
    "                                zoom=10, # Adjusted zoom slightly, maybe start closer for 10m data\n",
    "                                center={\"lat\": np.mean(lats), \"lon\": np.mean(lons)}, # Use numpy mean for center calculation\n",
    "                                title=f\"Settlement Pixel Centers (> {value_threshold})\\n{tif_file_path}\"\n",
    "                               )\n",
    "\n",
    "        fig.update_layout(mapbox_style=\"carto-positron\") # Use a light basemap\n",
    "        fig.update_layout(margin={\"r\":0,\"t\":40,\"l\":0,\"b\":0})\n",
    "        fig.update_layout(\n",
    "          height=700, # Set the figure height in pixels\n",
    "          # You can change the value (e.g., 700) to make it taller or shorter\n",
    "          margin={\"r\":0,\"t\":30,\"l\":0,\"b\":0}\n",
    "          )\n",
    "\n",
    "        print(\"Showing plot...\")\n",
    "        fig.show()\n",
    "        print(\"Plot display attempted.\")\n",
    "\n",
    "\n",
    "except rasterio.RasterioIOError as e:\n",
    "    print(f\"Error opening or reading file: {e}\")\n",
    "except FileNotFoundError:\n",
    "    print(f\"Error: File not found at {tif_file_path}\")\n",
    "except Exception as e:\n",
    "    # Print the specific traceback for better debugging\n",
    "    print(f\"An unexpected error occurred during processing or plotting:\")\n",
    "    traceback.print_exc() # This will print the full error details"
   ]
  },
  {
   "cell_type": "code",
   "execution_count": 2,
   "id": "c8f8c8a1",
   "metadata": {},
   "outputs": [
    {
     "name": "stdout",
     "output_type": "stream",
     "text": [
      "Reprojecting points from EPSG:4326 to ESRI:54009\n",
      "Reprojecting points from EPSG:4326 to ESRI:54009\n"
     ]
    },
    {
     "ename": "NameError",
     "evalue": "name 'xr' is not defined",
     "output_type": "error",
     "traceback": [
      "\u001b[31m---------------------------------------------------------------------------\u001b[39m",
      "\u001b[31mNameError\u001b[39m                                 Traceback (most recent call last)",
      "\u001b[36mCell\u001b[39m\u001b[36m \u001b[39m\u001b[32mIn[2]\u001b[39m\u001b[32m, line 51\u001b[39m\n\u001b[32m     48\u001b[39m     gdf_proj = gdf\n\u001b[32m     50\u001b[39m \u001b[38;5;66;03m# Prepare coordinates for xarray selection\u001b[39;00m\n\u001b[32m---> \u001b[39m\u001b[32m51\u001b[39m x_coords = \u001b[43mxr\u001b[49m.DataArray(gdf_proj.geometry.x, dims=\u001b[33m\"\u001b[39m\u001b[33mpoints\u001b[39m\u001b[33m\"\u001b[39m)\n\u001b[32m     52\u001b[39m y_coords = xr.DataArray(gdf_proj.geometry.y, dims=\u001b[33m\"\u001b[39m\u001b[33mpoints\u001b[39m\u001b[33m\"\u001b[39m)\n\u001b[32m     54\u001b[39m \u001b[38;5;66;03m# Select values at point locations (nearest neighbor is default)\u001b[39;00m\n",
      "\u001b[31mNameError\u001b[39m: name 'xr' is not defined"
     ]
    }
   ],
   "source": [
    "# --- 1. Load your CSV data ---\n",
    "csv_path = 'data/test.csv' # Replace with your file path\n",
    "df = pd.read_csv(csv_path)\n",
    "\n",
    "# --- 2. Create a GeoDataFrame ---\n",
    "# Assuming your lat/lon are in WGS84 (EPSG:4326)\n",
    "gdf = gpd.GeoDataFrame(\n",
    "    df,\n",
    "    geometry=gpd.points_from_xy(df.lon, df.lat),\n",
    "    crs=\"EPSG:4326\" # WGS84 coordinate system\n",
    ")\n",
    "\n",
    "# --- 3. Download and Specify Raster Path ---\n",
    "# Download the relevant GHSL GeoTIFF (e.g., for Angola, for the year closest to 2006)\n",
    "# Example: Let's say you downloaded the 100m Built-up Surface for 2005\n",
    "ghsl_raster_path = 'humansettle_data/GHS_BUILT_S_E2018_GLOBE_R2023A_54009_10_V1_0_R10_C17.tif' # Replace\n",
    "\n",
    "# --- 4. Open Raster and Extract Values ---\n",
    "\n",
    "# Option A: Using rasterio\n",
    "coords = [(p.x, p.y) for p in gdf.geometry] # List of (lon, lat) tuples\n",
    "\n",
    "with rasterio.open(ghsl_raster_path) as src:\n",
    "    # Ensure points are in the same CRS as the raster\n",
    "    # GHSL is often in Mollweide (EPSG:54009), check the raster's CRS: src.crs\n",
    "    if gdf.crs != src.crs:\n",
    "        print(f\"Reprojecting points from {gdf.crs} to {src.crs}\")\n",
    "        gdf_proj = gdf.to_crs(src.crs)\n",
    "        coords_proj = [(p.x, p.y) for p in gdf_proj.geometry]\n",
    "    else:\n",
    "        coords_proj = coords\n",
    "\n",
    "    # Sample the raster at the projected coordinates\n",
    "    # 'sample_gen' returns a generator, convert it to a list of numpy arrays\n",
    "    # Each array contains the raster value(s) for the corresponding point\n",
    "    extracted_values_gen = src.sample(coords_proj)\n",
    "    # Assuming single band raster, extract the first value for each point\n",
    "    extracted_values = [val[0] for val in extracted_values_gen]\n",
    "\n",
    "# Option B: Using rioxarray (often simpler)\n",
    "rds = rioxarray.open_rasterio(ghsl_raster_path, masked=True).squeeze()\n",
    "\n",
    "# Ensure points are in the same CRS as the raster\n",
    "if gdf.crs != rds.rio.crs:\n",
    "    print(f\"Reprojecting points from {gdf.crs} to {rds.rio.crs}\")\n",
    "    gdf_proj = gdf.to_crs(rds.rio.crs)\n",
    "else:\n",
    "    gdf_proj = gdf\n",
    "\n",
    "# Prepare coordinates for xarray selection\n",
    "x_coords = xr.DataArray(gdf_proj.geometry.x, dims=\"points\")\n",
    "y_coords = xr.DataArray(gdf_proj.geometry.y, dims=\"points\")\n",
    "\n",
    "# Select values at point locations (nearest neighbor is default)\n",
    "extracted_values_da = rds.sel(x=x_coords, y=y_coords, method=\"nearest\")\n",
    "extracted_values = extracted_values_da.values\n",
    "\n",
    "\n",
    "# --- 5. Add Extracted Values to DataFrame ---\n",
    "df['ghsl_builtup'] = extracted_values # Or use a more descriptive name\n",
    "\n",
    "# --- 6. Use for Imputation ---\n",
    "# Now 'ghsl_builtup' column can be used as a feature in your imputation model\n",
    "# (e.g., using scikit-learn's IterativeImputer, KNNImputer, or custom methods)\n",
    "print(df.head())\n",
    "\n",
    "# Example: Check correlation with 'iwi' (if that's what you're imputing)\n",
    "# print(df[['iwi', 'ghsl_builtup']].corr())"
   ]
  }
 ],
 "metadata": {
  "kernelspec": {
   "display_name": "tsflow",
   "language": "python",
   "name": "python3"
  },
  "language_info": {
   "codemirror_mode": {
    "name": "ipython",
    "version": 3
   },
   "file_extension": ".py",
   "mimetype": "text/x-python",
   "name": "python",
   "nbconvert_exporter": "python",
   "pygments_lexer": "ipython3",
   "version": "3.12.9"
  }
 },
 "nbformat": 4,
 "nbformat_minor": 5
}
